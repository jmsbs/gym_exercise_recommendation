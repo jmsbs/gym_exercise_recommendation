{
 "cells": [
  {
   "cell_type": "markdown",
   "source": [
    "# Gym Exercise Recommendation"
   ],
   "metadata": {
    "collapsed": false
   },
   "id": "c8a321a6d4840929"
  },
  {
   "cell_type": "markdown",
   "source": [
    "The goal of this project is to create a gym exercise recommendation algorithm.\n",
    "It'll recommend exercises based on strength, type of exercise and equipment needed. "
   ],
   "metadata": {
    "collapsed": false
   },
   "id": "a97b71058881f0c3"
  },
  {
   "cell_type": "code",
   "execution_count": 16,
   "id": "initial_id",
   "metadata": {
    "collapsed": true,
    "ExecuteTime": {
     "end_time": "2024-04-30T16:48:23.521860Z",
     "start_time": "2024-04-30T16:48:23.517871Z"
    }
   },
   "outputs": [],
   "source": [
    "import pandas as pd\n",
    "import numpy as np\n",
    "import matplotlib.pyplot as plt\n",
    "import seaborn as sns\n",
    "from pandasql import sqldf\n",
    "from sklearn.compose import ColumnTransformer\n",
    "from sklearn.pipeline import Pipeline\n",
    "from sklearn import preprocessing \n",
    "from sklearn.preprocessing import LabelEncoder\n"
   ]
  },
  {
   "cell_type": "markdown",
   "source": [],
   "metadata": {
    "collapsed": false
   },
   "id": "9aa017e7c7d0e091"
  },
  {
   "cell_type": "code",
   "outputs": [],
   "source": [
    "data = pd.read_csv(r'/Users/steelo/Library/CloudStorage/OneDrive-Personal/Dev/codeProjects/gym_recommendation/megaGymDataset.csv')"
   ],
   "metadata": {
    "collapsed": false,
    "ExecuteTime": {
     "end_time": "2024-04-30T16:48:23.538929Z",
     "start_time": "2024-04-30T16:48:23.523802Z"
    }
   },
   "id": "ba8d7305e882bf",
   "execution_count": 17
  },
  {
   "cell_type": "code",
   "outputs": [
    {
     "data": {
      "text/plain": "        ID                                           Title  \\\n0        0                          Partner plank band row   \n1        1                    Banded crunch isometric hold   \n2        2                           FYR Banded Plank Jack   \n3        3                                   Banded crunch   \n4        4                                          Crunch   \n...    ...                                             ...   \n2913  2913                            EZ-bar skullcrusher-   \n2914  2914  Lying Close-Grip Barbell Triceps Press To Chin   \n2915  2915          EZ-Bar Skullcrusher - Gethin Variation   \n2916  2916                                TBS Skullcrusher   \n2917  2917                     30 Arms EZ-Bar Skullcrusher   \n\n                                                   Desc      Type    BodyPart  \\\n0     The partner plank band row is an abdominal exe...  Strength  Abdominals   \n1     The banded crunch isometric hold is an exercis...  Strength  Abdominals   \n2     The banded plank jack is a variation on the pl...  Strength  Abdominals   \n3     The banded crunch is an exercise targeting the...  Strength  Abdominals   \n4     The crunch is a popular core exercise targetin...  Strength  Abdominals   \n...                                                 ...       ...         ...   \n2913  The EZ-bar skullcrusher is a popular exercise ...  Strength     Triceps   \n2914                                                NaN  Strength     Triceps   \n2915  The EZ-bar skullcrusher is a popular exercise ...  Strength     Triceps   \n2916  The EZ-bar skullcrusher is a popular exercise ...  Strength     Triceps   \n2917                                                NaN  Strength     Triceps   \n\n         Equipment         Level  Rating RatingDesc  \n0            Bands  Intermediate     0.0        NaN  \n1            Bands  Intermediate     NaN        NaN  \n2            Bands  Intermediate     NaN        NaN  \n3            Bands  Intermediate     NaN        NaN  \n4            Bands  Intermediate     NaN        NaN  \n...            ...           ...     ...        ...  \n2913  E-Z Curl Bar  Intermediate     8.1    Average  \n2914  E-Z Curl Bar      Beginner     8.1    Average  \n2915  E-Z Curl Bar  Intermediate     NaN        NaN  \n2916  E-Z Curl Bar  Intermediate     NaN        NaN  \n2917  E-Z Curl Bar  Intermediate     NaN        NaN  \n\n[2918 rows x 9 columns]",
      "text/html": "<div>\n<style scoped>\n    .dataframe tbody tr th:only-of-type {\n        vertical-align: middle;\n    }\n\n    .dataframe tbody tr th {\n        vertical-align: top;\n    }\n\n    .dataframe thead th {\n        text-align: right;\n    }\n</style>\n<table border=\"1\" class=\"dataframe\">\n  <thead>\n    <tr style=\"text-align: right;\">\n      <th></th>\n      <th>ID</th>\n      <th>Title</th>\n      <th>Desc</th>\n      <th>Type</th>\n      <th>BodyPart</th>\n      <th>Equipment</th>\n      <th>Level</th>\n      <th>Rating</th>\n      <th>RatingDesc</th>\n    </tr>\n  </thead>\n  <tbody>\n    <tr>\n      <th>0</th>\n      <td>0</td>\n      <td>Partner plank band row</td>\n      <td>The partner plank band row is an abdominal exe...</td>\n      <td>Strength</td>\n      <td>Abdominals</td>\n      <td>Bands</td>\n      <td>Intermediate</td>\n      <td>0.0</td>\n      <td>NaN</td>\n    </tr>\n    <tr>\n      <th>1</th>\n      <td>1</td>\n      <td>Banded crunch isometric hold</td>\n      <td>The banded crunch isometric hold is an exercis...</td>\n      <td>Strength</td>\n      <td>Abdominals</td>\n      <td>Bands</td>\n      <td>Intermediate</td>\n      <td>NaN</td>\n      <td>NaN</td>\n    </tr>\n    <tr>\n      <th>2</th>\n      <td>2</td>\n      <td>FYR Banded Plank Jack</td>\n      <td>The banded plank jack is a variation on the pl...</td>\n      <td>Strength</td>\n      <td>Abdominals</td>\n      <td>Bands</td>\n      <td>Intermediate</td>\n      <td>NaN</td>\n      <td>NaN</td>\n    </tr>\n    <tr>\n      <th>3</th>\n      <td>3</td>\n      <td>Banded crunch</td>\n      <td>The banded crunch is an exercise targeting the...</td>\n      <td>Strength</td>\n      <td>Abdominals</td>\n      <td>Bands</td>\n      <td>Intermediate</td>\n      <td>NaN</td>\n      <td>NaN</td>\n    </tr>\n    <tr>\n      <th>4</th>\n      <td>4</td>\n      <td>Crunch</td>\n      <td>The crunch is a popular core exercise targetin...</td>\n      <td>Strength</td>\n      <td>Abdominals</td>\n      <td>Bands</td>\n      <td>Intermediate</td>\n      <td>NaN</td>\n      <td>NaN</td>\n    </tr>\n    <tr>\n      <th>...</th>\n      <td>...</td>\n      <td>...</td>\n      <td>...</td>\n      <td>...</td>\n      <td>...</td>\n      <td>...</td>\n      <td>...</td>\n      <td>...</td>\n      <td>...</td>\n    </tr>\n    <tr>\n      <th>2913</th>\n      <td>2913</td>\n      <td>EZ-bar skullcrusher-</td>\n      <td>The EZ-bar skullcrusher is a popular exercise ...</td>\n      <td>Strength</td>\n      <td>Triceps</td>\n      <td>E-Z Curl Bar</td>\n      <td>Intermediate</td>\n      <td>8.1</td>\n      <td>Average</td>\n    </tr>\n    <tr>\n      <th>2914</th>\n      <td>2914</td>\n      <td>Lying Close-Grip Barbell Triceps Press To Chin</td>\n      <td>NaN</td>\n      <td>Strength</td>\n      <td>Triceps</td>\n      <td>E-Z Curl Bar</td>\n      <td>Beginner</td>\n      <td>8.1</td>\n      <td>Average</td>\n    </tr>\n    <tr>\n      <th>2915</th>\n      <td>2915</td>\n      <td>EZ-Bar Skullcrusher - Gethin Variation</td>\n      <td>The EZ-bar skullcrusher is a popular exercise ...</td>\n      <td>Strength</td>\n      <td>Triceps</td>\n      <td>E-Z Curl Bar</td>\n      <td>Intermediate</td>\n      <td>NaN</td>\n      <td>NaN</td>\n    </tr>\n    <tr>\n      <th>2916</th>\n      <td>2916</td>\n      <td>TBS Skullcrusher</td>\n      <td>The EZ-bar skullcrusher is a popular exercise ...</td>\n      <td>Strength</td>\n      <td>Triceps</td>\n      <td>E-Z Curl Bar</td>\n      <td>Intermediate</td>\n      <td>NaN</td>\n      <td>NaN</td>\n    </tr>\n    <tr>\n      <th>2917</th>\n      <td>2917</td>\n      <td>30 Arms EZ-Bar Skullcrusher</td>\n      <td>NaN</td>\n      <td>Strength</td>\n      <td>Triceps</td>\n      <td>E-Z Curl Bar</td>\n      <td>Intermediate</td>\n      <td>NaN</td>\n      <td>NaN</td>\n    </tr>\n  </tbody>\n</table>\n<p>2918 rows × 9 columns</p>\n</div>"
     },
     "execution_count": 18,
     "metadata": {},
     "output_type": "execute_result"
    }
   ],
   "source": [
    "data.rename( columns={'Unnamed: 0':'ID'}, inplace=True )\n",
    "data"
   ],
   "metadata": {
    "collapsed": false,
    "ExecuteTime": {
     "end_time": "2024-04-30T16:48:23.549592Z",
     "start_time": "2024-04-30T16:48:23.540699Z"
    }
   },
   "id": "d207fbef589753ef",
   "execution_count": 18
  },
  {
   "cell_type": "code",
   "outputs": [
    {
     "data": {
      "text/plain": "     ID                         Title  \\\n0   149                   Roc Everest   \n1  1217           Kneeling Jump Squat   \n2    96            Sledgehammer swing   \n3   917  Bench Press With Short Bands   \n4     0        Partner plank band row   \n5   204                Stomach Vacuum   \n6  1159       Forward Drag with Press   \n\n                                                Desc                   Type  \\\n0                                               None                 Cardio   \n1                                               None  Olympic Weightlifting   \n2  The sledgehammer swing is an exercise working ...            Plyometrics   \n3                                               None           Powerlifting   \n4  The partner plank band row is an abdominal exe...               Strength   \n5                                               None             Stretching   \n6                                               None              Strongman   \n\n     BodyPart  Equipment         Level  Rating RatingDesc  \n0  Abdominals      Other  Intermediate     NaN       None  \n1      Glutes    Barbell      Beginner     7.6    Average  \n2  Abdominals      Other  Intermediate     8.6    Average  \n3       Chest      Bands      Beginner     0.0       None  \n4  Abdominals      Bands  Intermediate     0.0       None  \n5  Abdominals  Body Only      Beginner     8.5    Average  \n6       Chest      Other      Beginner     6.0    Average  ",
      "text/html": "<div>\n<style scoped>\n    .dataframe tbody tr th:only-of-type {\n        vertical-align: middle;\n    }\n\n    .dataframe tbody tr th {\n        vertical-align: top;\n    }\n\n    .dataframe thead th {\n        text-align: right;\n    }\n</style>\n<table border=\"1\" class=\"dataframe\">\n  <thead>\n    <tr style=\"text-align: right;\">\n      <th></th>\n      <th>ID</th>\n      <th>Title</th>\n      <th>Desc</th>\n      <th>Type</th>\n      <th>BodyPart</th>\n      <th>Equipment</th>\n      <th>Level</th>\n      <th>Rating</th>\n      <th>RatingDesc</th>\n    </tr>\n  </thead>\n  <tbody>\n    <tr>\n      <th>0</th>\n      <td>149</td>\n      <td>Roc Everest</td>\n      <td>None</td>\n      <td>Cardio</td>\n      <td>Abdominals</td>\n      <td>Other</td>\n      <td>Intermediate</td>\n      <td>NaN</td>\n      <td>None</td>\n    </tr>\n    <tr>\n      <th>1</th>\n      <td>1217</td>\n      <td>Kneeling Jump Squat</td>\n      <td>None</td>\n      <td>Olympic Weightlifting</td>\n      <td>Glutes</td>\n      <td>Barbell</td>\n      <td>Beginner</td>\n      <td>7.6</td>\n      <td>Average</td>\n    </tr>\n    <tr>\n      <th>2</th>\n      <td>96</td>\n      <td>Sledgehammer swing</td>\n      <td>The sledgehammer swing is an exercise working ...</td>\n      <td>Plyometrics</td>\n      <td>Abdominals</td>\n      <td>Other</td>\n      <td>Intermediate</td>\n      <td>8.6</td>\n      <td>Average</td>\n    </tr>\n    <tr>\n      <th>3</th>\n      <td>917</td>\n      <td>Bench Press With Short Bands</td>\n      <td>None</td>\n      <td>Powerlifting</td>\n      <td>Chest</td>\n      <td>Bands</td>\n      <td>Beginner</td>\n      <td>0.0</td>\n      <td>None</td>\n    </tr>\n    <tr>\n      <th>4</th>\n      <td>0</td>\n      <td>Partner plank band row</td>\n      <td>The partner plank band row is an abdominal exe...</td>\n      <td>Strength</td>\n      <td>Abdominals</td>\n      <td>Bands</td>\n      <td>Intermediate</td>\n      <td>0.0</td>\n      <td>None</td>\n    </tr>\n    <tr>\n      <th>5</th>\n      <td>204</td>\n      <td>Stomach Vacuum</td>\n      <td>None</td>\n      <td>Stretching</td>\n      <td>Abdominals</td>\n      <td>Body Only</td>\n      <td>Beginner</td>\n      <td>8.5</td>\n      <td>Average</td>\n    </tr>\n    <tr>\n      <th>6</th>\n      <td>1159</td>\n      <td>Forward Drag with Press</td>\n      <td>None</td>\n      <td>Strongman</td>\n      <td>Chest</td>\n      <td>Other</td>\n      <td>Beginner</td>\n      <td>6.0</td>\n      <td>Average</td>\n    </tr>\n  </tbody>\n</table>\n</div>"
     },
     "execution_count": 19,
     "metadata": {},
     "output_type": "execute_result"
    }
   ],
   "source": [
    "sqldf(\"SELECT * FROM data GROUP BY Type\", globals())"
   ],
   "metadata": {
    "collapsed": false,
    "ExecuteTime": {
     "end_time": "2024-04-30T16:48:23.576287Z",
     "start_time": "2024-04-30T16:48:23.551521Z"
    }
   },
   "id": "3cee5d4406698625",
   "execution_count": 19
  },
  {
   "cell_type": "code",
   "outputs": [
    {
     "data": {
      "text/plain": "        ID                                           Title  \\\n0        0                          Partner plank band row   \n1        1                    Banded crunch isometric hold   \n2        2                           FYR Banded Plank Jack   \n3        3                                   Banded crunch   \n4        4                                          Crunch   \n...    ...                                             ...   \n2913  2913                            EZ-bar skullcrusher-   \n2914  2914  Lying Close-Grip Barbell Triceps Press To Chin   \n2915  2915          EZ-Bar Skullcrusher - Gethin Variation   \n2916  2916                                TBS Skullcrusher   \n2917  2917                     30 Arms EZ-Bar Skullcrusher   \n\n                                                   Desc      Type    BodyPart  \\\n0     The partner plank band row is an abdominal exe...  Strength  Abdominals   \n1     The banded crunch isometric hold is an exercis...  Strength  Abdominals   \n2     The banded plank jack is a variation on the pl...  Strength  Abdominals   \n3     The banded crunch is an exercise targeting the...  Strength  Abdominals   \n4     The crunch is a popular core exercise targetin...  Strength  Abdominals   \n...                                                 ...       ...         ...   \n2913  The EZ-bar skullcrusher is a popular exercise ...  Strength     Triceps   \n2914                                                NaN  Strength     Triceps   \n2915  The EZ-bar skullcrusher is a popular exercise ...  Strength     Triceps   \n2916  The EZ-bar skullcrusher is a popular exercise ...  Strength     Triceps   \n2917                                                NaN  Strength     Triceps   \n\n         Equipment         Level  Rating RatingDesc  Type_encoded  \\\n0            Bands  Intermediate     0.0        NaN             4   \n1            Bands  Intermediate     NaN        NaN             4   \n2            Bands  Intermediate     NaN        NaN             4   \n3            Bands  Intermediate     NaN        NaN             4   \n4            Bands  Intermediate     NaN        NaN             4   \n...            ...           ...     ...        ...           ...   \n2913  E-Z Curl Bar  Intermediate     8.1    Average             4   \n2914  E-Z Curl Bar      Beginner     8.1    Average             4   \n2915  E-Z Curl Bar  Intermediate     NaN        NaN             4   \n2916  E-Z Curl Bar  Intermediate     NaN        NaN             4   \n2917  E-Z Curl Bar  Intermediate     NaN        NaN             4   \n\n      Equipment_encoded  Level_encoded  BodyPart_encoded  \n0                     0              2                 0  \n1                     0              2                 0  \n2                     0              2                 0  \n3                     0              2                 0  \n4                     0              2                 0  \n...                 ...            ...               ...  \n2913                  5              2                16  \n2914                  5              0                16  \n2915                  5              2                16  \n2916                  5              2                16  \n2917                  5              2                16  \n\n[2918 rows x 13 columns]",
      "text/html": "<div>\n<style scoped>\n    .dataframe tbody tr th:only-of-type {\n        vertical-align: middle;\n    }\n\n    .dataframe tbody tr th {\n        vertical-align: top;\n    }\n\n    .dataframe thead th {\n        text-align: right;\n    }\n</style>\n<table border=\"1\" class=\"dataframe\">\n  <thead>\n    <tr style=\"text-align: right;\">\n      <th></th>\n      <th>ID</th>\n      <th>Title</th>\n      <th>Desc</th>\n      <th>Type</th>\n      <th>BodyPart</th>\n      <th>Equipment</th>\n      <th>Level</th>\n      <th>Rating</th>\n      <th>RatingDesc</th>\n      <th>Type_encoded</th>\n      <th>Equipment_encoded</th>\n      <th>Level_encoded</th>\n      <th>BodyPart_encoded</th>\n    </tr>\n  </thead>\n  <tbody>\n    <tr>\n      <th>0</th>\n      <td>0</td>\n      <td>Partner plank band row</td>\n      <td>The partner plank band row is an abdominal exe...</td>\n      <td>Strength</td>\n      <td>Abdominals</td>\n      <td>Bands</td>\n      <td>Intermediate</td>\n      <td>0.0</td>\n      <td>NaN</td>\n      <td>4</td>\n      <td>0</td>\n      <td>2</td>\n      <td>0</td>\n    </tr>\n    <tr>\n      <th>1</th>\n      <td>1</td>\n      <td>Banded crunch isometric hold</td>\n      <td>The banded crunch isometric hold is an exercis...</td>\n      <td>Strength</td>\n      <td>Abdominals</td>\n      <td>Bands</td>\n      <td>Intermediate</td>\n      <td>NaN</td>\n      <td>NaN</td>\n      <td>4</td>\n      <td>0</td>\n      <td>2</td>\n      <td>0</td>\n    </tr>\n    <tr>\n      <th>2</th>\n      <td>2</td>\n      <td>FYR Banded Plank Jack</td>\n      <td>The banded plank jack is a variation on the pl...</td>\n      <td>Strength</td>\n      <td>Abdominals</td>\n      <td>Bands</td>\n      <td>Intermediate</td>\n      <td>NaN</td>\n      <td>NaN</td>\n      <td>4</td>\n      <td>0</td>\n      <td>2</td>\n      <td>0</td>\n    </tr>\n    <tr>\n      <th>3</th>\n      <td>3</td>\n      <td>Banded crunch</td>\n      <td>The banded crunch is an exercise targeting the...</td>\n      <td>Strength</td>\n      <td>Abdominals</td>\n      <td>Bands</td>\n      <td>Intermediate</td>\n      <td>NaN</td>\n      <td>NaN</td>\n      <td>4</td>\n      <td>0</td>\n      <td>2</td>\n      <td>0</td>\n    </tr>\n    <tr>\n      <th>4</th>\n      <td>4</td>\n      <td>Crunch</td>\n      <td>The crunch is a popular core exercise targetin...</td>\n      <td>Strength</td>\n      <td>Abdominals</td>\n      <td>Bands</td>\n      <td>Intermediate</td>\n      <td>NaN</td>\n      <td>NaN</td>\n      <td>4</td>\n      <td>0</td>\n      <td>2</td>\n      <td>0</td>\n    </tr>\n    <tr>\n      <th>...</th>\n      <td>...</td>\n      <td>...</td>\n      <td>...</td>\n      <td>...</td>\n      <td>...</td>\n      <td>...</td>\n      <td>...</td>\n      <td>...</td>\n      <td>...</td>\n      <td>...</td>\n      <td>...</td>\n      <td>...</td>\n      <td>...</td>\n    </tr>\n    <tr>\n      <th>2913</th>\n      <td>2913</td>\n      <td>EZ-bar skullcrusher-</td>\n      <td>The EZ-bar skullcrusher is a popular exercise ...</td>\n      <td>Strength</td>\n      <td>Triceps</td>\n      <td>E-Z Curl Bar</td>\n      <td>Intermediate</td>\n      <td>8.1</td>\n      <td>Average</td>\n      <td>4</td>\n      <td>5</td>\n      <td>2</td>\n      <td>16</td>\n    </tr>\n    <tr>\n      <th>2914</th>\n      <td>2914</td>\n      <td>Lying Close-Grip Barbell Triceps Press To Chin</td>\n      <td>NaN</td>\n      <td>Strength</td>\n      <td>Triceps</td>\n      <td>E-Z Curl Bar</td>\n      <td>Beginner</td>\n      <td>8.1</td>\n      <td>Average</td>\n      <td>4</td>\n      <td>5</td>\n      <td>0</td>\n      <td>16</td>\n    </tr>\n    <tr>\n      <th>2915</th>\n      <td>2915</td>\n      <td>EZ-Bar Skullcrusher - Gethin Variation</td>\n      <td>The EZ-bar skullcrusher is a popular exercise ...</td>\n      <td>Strength</td>\n      <td>Triceps</td>\n      <td>E-Z Curl Bar</td>\n      <td>Intermediate</td>\n      <td>NaN</td>\n      <td>NaN</td>\n      <td>4</td>\n      <td>5</td>\n      <td>2</td>\n      <td>16</td>\n    </tr>\n    <tr>\n      <th>2916</th>\n      <td>2916</td>\n      <td>TBS Skullcrusher</td>\n      <td>The EZ-bar skullcrusher is a popular exercise ...</td>\n      <td>Strength</td>\n      <td>Triceps</td>\n      <td>E-Z Curl Bar</td>\n      <td>Intermediate</td>\n      <td>NaN</td>\n      <td>NaN</td>\n      <td>4</td>\n      <td>5</td>\n      <td>2</td>\n      <td>16</td>\n    </tr>\n    <tr>\n      <th>2917</th>\n      <td>2917</td>\n      <td>30 Arms EZ-Bar Skullcrusher</td>\n      <td>NaN</td>\n      <td>Strength</td>\n      <td>Triceps</td>\n      <td>E-Z Curl Bar</td>\n      <td>Intermediate</td>\n      <td>NaN</td>\n      <td>NaN</td>\n      <td>4</td>\n      <td>5</td>\n      <td>2</td>\n      <td>16</td>\n    </tr>\n  </tbody>\n</table>\n<p>2918 rows × 13 columns</p>\n</div>"
     },
     "execution_count": 20,
     "metadata": {},
     "output_type": "execute_result"
    }
   ],
   "source": [
    "le = LabelEncoder() # Create a LabelEncoder object\n",
    "\n",
    "# Fit the LabelEncoder to the data and transform it\n",
    "data['Type_encoded'] = le.fit_transform(data['Type'])\n",
    "data['Equipment_encoded'] = le.fit_transform(data['Equipment'])\n",
    "data['Level_encoded'] = le.fit_transform(data['Level'])\n",
    "data['BodyPart_encoded'] = le.fit_transform(data['BodyPart'])\n",
    "# \n",
    "# # Inverse transform the encoded data to get the original text values\n",
    "# data['Type_original'] = le.inverse_transform(data['Type_encoded'])\n",
    "# data['Equipment_original'] = le.inverse_transform(data['Equipment_encoded'])\n",
    "# data['Level_original'] = le.inverse_transform(data['Level_encoded'])\n",
    "# data['BodyPart_original'] = le.inverse_transform(data['BodyPart_encoded'])\n",
    "\n",
    "data"
   ],
   "metadata": {
    "collapsed": false,
    "ExecuteTime": {
     "end_time": "2024-04-30T16:48:23.585451Z",
     "start_time": "2024-04-30T16:48:23.576908Z"
    }
   },
   "id": "c8794cd4d44cb957",
   "execution_count": 20
  }
 ],
 "metadata": {
  "kernelspec": {
   "display_name": "Python 3",
   "language": "python",
   "name": "python3"
  },
  "language_info": {
   "codemirror_mode": {
    "name": "ipython",
    "version": 2
   },
   "file_extension": ".py",
   "mimetype": "text/x-python",
   "name": "python",
   "nbconvert_exporter": "python",
   "pygments_lexer": "ipython2",
   "version": "2.7.6"
  }
 },
 "nbformat": 4,
 "nbformat_minor": 5
}
