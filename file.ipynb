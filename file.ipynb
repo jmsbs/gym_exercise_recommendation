{
 "cells": [
  {
   "cell_type": "markdown",
   "source": [
    "# Gym Exercise Recommendation"
   ],
   "metadata": {
    "collapsed": false
   },
   "id": "c8a321a6d4840929"
  },
  {
   "cell_type": "markdown",
   "source": [
    "The goal of this project is to create a gym exercise recommendation algorithm.\n",
    "It'll recommend exercises based on strength, type of exercise and equipment needed. "
   ],
   "metadata": {
    "collapsed": false
   },
   "id": "a97b71058881f0c3"
  },
  {
   "cell_type": "code",
   "execution_count": null,
   "id": "initial_id",
   "metadata": {
    "collapsed": true
   },
   "outputs": [],
   "source": [
    "import pandas as pd\n",
    "import numpy as np\n",
    "import matplotlib.pyplot as plt\n",
    "import seaborn as sns\n",
    "from pandasql import sqldf\n",
    "from sklearn.compose import ColumnTransformer\n",
    "from sklearn.pipeline import Pipeline\n",
    "from sklearn import preprocessing \n",
    "from sklearn.preprocessing import LabelEncoder\n",
    "from scipy.stats import pearsonr\n",
    "from sklearn.metrics.pairwise import cosine_similarity"
   ]
  },
  {
   "cell_type": "code",
   "outputs": [],
   "source": [
    "data = pd.read_csv(r'/Users/steelo/Library/CloudStorage/OneDrive-Personal/Dev/codeProjects/gym_recommendation/megaGymDataset.csv')"
   ],
   "metadata": {
    "collapsed": false
   },
   "id": "ba8d7305e882bf",
   "execution_count": null
  },
  {
   "cell_type": "code",
   "outputs": [],
   "source": [
    "data.rename( columns={'Unnamed: 0':'ID'}, inplace=True )\n",
    "data"
   ],
   "metadata": {
    "collapsed": false
   },
   "id": "d207fbef589753ef",
   "execution_count": null
  },
  {
   "cell_type": "code",
   "outputs": [],
   "source": [
    "sqldf(\"SELECT * FROM data GROUP BY Type\", globals())"
   ],
   "metadata": {
    "collapsed": false
   },
   "id": "3cee5d4406698625",
   "execution_count": null
  },
  {
   "cell_type": "code",
   "outputs": [],
   "source": [
    "le = LabelEncoder() # Create a LabelEncoder object\n",
    "\n",
    "# Fit the LabelEncoder to the data and transform it\n",
    "data['Type_encoded'] = le.fit_transform(data['Type'])\n",
    "data['Equipment_encoded'] = le.fit_transform(data['Equipment'])\n",
    "data['Level_encoded'] = le.fit_transform(data['Level'])\n",
    "data['BodyPart_encoded'] = le.fit_transform(data['BodyPart'])\n",
    "# \n",
    "# # Inverse transform the encoded data to get the original text values\n",
    "# data['Type_original'] = le.inverse_transform(data['Type_encoded'])\n",
    "# data['Equipment_original'] = le.inverse_transform(data['Equipment_encoded'])\n",
    "# data['Level_original'] = le.inverse_transform(data['Level_encoded'])\n",
    "# data['BodyPart_original'] = le.inverse_transform(data['BodyPart_encoded'])\n",
    "\n",
    "data"
   ],
   "metadata": {
    "collapsed": false
   },
   "id": "c8794cd4d44cb957",
   "execution_count": null
  },
  {
   "cell_type": "code",
   "outputs": [],
   "source": [
    "heatmap_columns = ['Type_encoded', 'Equipment_encoded', 'BodyPart_encoded', 'Level_encoded']\n",
    "sns.heatmap(data[heatmap_columns].corr(), annot=True, cmap='coolwarm')\n"
   ],
   "metadata": {
    "collapsed": false
   },
   "id": "325ced627f18d8c",
   "execution_count": null
  },
  {
   "cell_type": "code",
   "outputs": [],
   "source": [
    "# Compute Pearson correlation coefficient and p-value\n",
    "correlation_coefficient, p_value = pearsonr(data['Type_encoded'], data['Level_encoded'])\n",
    "print(\"Pearson correlation coefficient for 'Type_encoded' and 'Level_encoded':\", correlation_coefficient)\n",
    "print(\"P-value:\", p_value)\n",
    "\n",
    "correlation_coefficient, p_value = pearsonr(data['Type_encoded'], data['BodyPart_encoded'])\n",
    "print(\"Pearson correlation coefficient for 'Type_encoded' and 'BodyPart_encoded':\", correlation_coefficient)\n",
    "print(\"P-value:\", p_value)\n",
    "\n",
    "correlation_coefficient, p_value = pearsonr(data['Level_encoded'], data['BodyPart_encoded'])\n",
    "print(\"Pearson correlation coefficient for 'Level_encoded' and 'BodyPart_encoded':\", correlation_coefficient)\n",
    "print(\"P-value:\", p_value)\n",
    "\n",
    "correlation_coefficient, p_value = pearsonr(data['Equipment_encoded'], data['BodyPart_encoded'])\n",
    "print(\"Pearson correlation coefficient for 'Equipment_encoded' and 'BodyPart_encoded':\", correlation_coefficient)\n",
    "print(\"P-value:\", p_value)\n",
    "\n",
    "correlation_coefficient, p_value = pearsonr(data['Equipment_encoded'], data['Level_encoded'])\n",
    "print(\"Pearson correlation coefficient for 'Equipment_encoded' and 'Level_encoded':\", correlation_coefficient)\n",
    "print(\"P-value:\", p_value)\n",
    "\n",
    "correlation_coefficient, p_value = pearsonr(data['Equipment_encoded'], data['Type_encoded'])\n",
    "print(\"Pearson correlation coefficient for 'Equipment_encoded' and 'Type_encoded':\", correlation_coefficient)\n",
    "print(\"P-value:\", p_value)"
   ],
   "metadata": {
    "collapsed": false
   },
   "id": "f575beb965164466",
   "execution_count": null
  },
  {
   "cell_type": "code",
   "outputs": [],
   "source": [
    "columns = ['Type_encoded', 'Equipment_encoded', 'BodyPart_encoded', 'Level_encoded'] # Create a new DF\n",
    "data1 = data[columns]\n",
    "\n",
    "similarity_matrix = cosine_similarity(data1) # Calculate the Cosine Similarity between each pair of exercises\n",
    "\n",
    "similarity_df = pd.DataFrame(similarity_matrix, index=data1.index, columns=data1.index) # Convert the similarity matrix to a DataFrame for better readability\n",
    "\n",
    "similarity_df.index = data['ID'] # Replace the indices with the exercise titles\n",
    "\n",
    "similarity_df.columns = data['ID'] # Replace the column names with the exercise titles\n",
    "\n",
    "similarity_df"
   ],
   "metadata": {
    "collapsed": false
   },
   "id": "149ca3c530bcbfa0",
   "execution_count": null
  }
 ],
 "metadata": {
  "kernelspec": {
   "display_name": "Python 3",
   "language": "python",
   "name": "python3"
  },
  "language_info": {
   "codemirror_mode": {
    "name": "ipython",
    "version": 2
   },
   "file_extension": ".py",
   "mimetype": "text/x-python",
   "name": "python",
   "nbconvert_exporter": "python",
   "pygments_lexer": "ipython2",
   "version": "2.7.6"
  }
 },
 "nbformat": 4,
 "nbformat_minor": 5
}
