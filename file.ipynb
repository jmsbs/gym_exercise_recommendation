{
 "cells": [
  {
   "cell_type": "markdown",
   "source": [
    "# Gym Exercise Recommendation"
   ],
   "metadata": {
    "collapsed": false
   },
   "id": "c8a321a6d4840929"
  },
  {
   "cell_type": "markdown",
   "source": [
    "The idea of this project is to create a recommendation based algorithm built on top of a gym exercise dataset.\n",
    "The goal for v1 release is to have a model that will recommend exercises based on user level (beginner, intermediate, advanced), type of exercise/training, equipment available and body part.\n",
    "For the v2 release, I'd like to have some user information/profiles in a way that a content-based and collaborative filtering.\n",
    "For the v3 release, I'm aiming to have a frontend webapp/mobile app users can interact with.\n",
    "For the v4 release, the goal is to also include meal planning. Users will be suggested meals based on their weight, age, body-type and gym goal (getting more swollen, losing weight, etc)."
   ],
   "metadata": {
    "collapsed": false
   },
   "id": "a97b71058881f0c3"
  },
  {
   "cell_type": "code",
   "execution_count": 48,
   "id": "initial_id",
   "metadata": {
    "collapsed": true,
    "ExecuteTime": {
     "end_time": "2024-05-12T16:43:43.854389Z",
     "start_time": "2024-05-12T16:43:43.847860Z"
    }
   },
   "outputs": [],
   "source": [
    "import pandas as pd\n",
    "import numpy as np\n",
    "import matplotlib.pyplot as plt\n",
    "import seaborn as sns\n",
    "from pandasql import sqldf\n",
    "from sklearn.compose import ColumnTransformer\n",
    "from sklearn.pipeline import Pipeline\n",
    "from sklearn import preprocessing \n",
    "from sklearn.preprocessing import LabelEncoder\n",
    "from scipy.stats import pearsonr\n",
    "from sklearn.metrics.pairwise import cosine_similarity"
   ]
  },
  {
   "cell_type": "code",
   "outputs": [],
   "source": [
    "# Reads CSV\n",
    "data = pd.read_csv(r'/Users/steelo/Library/CloudStorage/OneDrive-Personal/Dev/codeProjects/gym_recommendation/megaGymDataset.csv') "
   ],
   "metadata": {
    "collapsed": false,
    "ExecuteTime": {
     "end_time": "2024-05-12T16:43:43.881743Z",
     "start_time": "2024-05-12T16:43:43.862938Z"
    }
   },
   "id": "ba8d7305e882bf",
   "execution_count": 49
  },
  {
   "cell_type": "code",
   "outputs": [
    {
     "data": {
      "text/plain": "        ID                                           Title  \\\n0        0                          Partner plank band row   \n1        1                    Banded crunch isometric hold   \n2        2                           FYR Banded Plank Jack   \n3        3                                   Banded crunch   \n4        4                                          Crunch   \n...    ...                                             ...   \n2913  2913                            EZ-bar skullcrusher-   \n2914  2914  Lying Close-Grip Barbell Triceps Press To Chin   \n2915  2915          EZ-Bar Skullcrusher - Gethin Variation   \n2916  2916                                TBS Skullcrusher   \n2917  2917                     30 Arms EZ-Bar Skullcrusher   \n\n                                                   Desc      Type    BodyPart  \\\n0     The partner plank band row is an abdominal exe...  Strength  Abdominals   \n1     The banded crunch isometric hold is an exercis...  Strength  Abdominals   \n2     The banded plank jack is a variation on the pl...  Strength  Abdominals   \n3     The banded crunch is an exercise targeting the...  Strength  Abdominals   \n4     The crunch is a popular core exercise targetin...  Strength  Abdominals   \n...                                                 ...       ...         ...   \n2913  The EZ-bar skullcrusher is a popular exercise ...  Strength     Triceps   \n2914                                                NaN  Strength     Triceps   \n2915  The EZ-bar skullcrusher is a popular exercise ...  Strength     Triceps   \n2916  The EZ-bar skullcrusher is a popular exercise ...  Strength     Triceps   \n2917                                                NaN  Strength     Triceps   \n\n         Equipment         Level  Rating RatingDesc  \n0            Bands  Intermediate     0.0        NaN  \n1            Bands  Intermediate     NaN        NaN  \n2            Bands  Intermediate     NaN        NaN  \n3            Bands  Intermediate     NaN        NaN  \n4            Bands  Intermediate     NaN        NaN  \n...            ...           ...     ...        ...  \n2913  E-Z Curl Bar  Intermediate     8.1    Average  \n2914  E-Z Curl Bar      Beginner     8.1    Average  \n2915  E-Z Curl Bar  Intermediate     NaN        NaN  \n2916  E-Z Curl Bar  Intermediate     NaN        NaN  \n2917  E-Z Curl Bar  Intermediate     NaN        NaN  \n\n[2918 rows x 9 columns]",
      "text/html": "<div>\n<style scoped>\n    .dataframe tbody tr th:only-of-type {\n        vertical-align: middle;\n    }\n\n    .dataframe tbody tr th {\n        vertical-align: top;\n    }\n\n    .dataframe thead th {\n        text-align: right;\n    }\n</style>\n<table border=\"1\" class=\"dataframe\">\n  <thead>\n    <tr style=\"text-align: right;\">\n      <th></th>\n      <th>ID</th>\n      <th>Title</th>\n      <th>Desc</th>\n      <th>Type</th>\n      <th>BodyPart</th>\n      <th>Equipment</th>\n      <th>Level</th>\n      <th>Rating</th>\n      <th>RatingDesc</th>\n    </tr>\n  </thead>\n  <tbody>\n    <tr>\n      <th>0</th>\n      <td>0</td>\n      <td>Partner plank band row</td>\n      <td>The partner plank band row is an abdominal exe...</td>\n      <td>Strength</td>\n      <td>Abdominals</td>\n      <td>Bands</td>\n      <td>Intermediate</td>\n      <td>0.0</td>\n      <td>NaN</td>\n    </tr>\n    <tr>\n      <th>1</th>\n      <td>1</td>\n      <td>Banded crunch isometric hold</td>\n      <td>The banded crunch isometric hold is an exercis...</td>\n      <td>Strength</td>\n      <td>Abdominals</td>\n      <td>Bands</td>\n      <td>Intermediate</td>\n      <td>NaN</td>\n      <td>NaN</td>\n    </tr>\n    <tr>\n      <th>2</th>\n      <td>2</td>\n      <td>FYR Banded Plank Jack</td>\n      <td>The banded plank jack is a variation on the pl...</td>\n      <td>Strength</td>\n      <td>Abdominals</td>\n      <td>Bands</td>\n      <td>Intermediate</td>\n      <td>NaN</td>\n      <td>NaN</td>\n    </tr>\n    <tr>\n      <th>3</th>\n      <td>3</td>\n      <td>Banded crunch</td>\n      <td>The banded crunch is an exercise targeting the...</td>\n      <td>Strength</td>\n      <td>Abdominals</td>\n      <td>Bands</td>\n      <td>Intermediate</td>\n      <td>NaN</td>\n      <td>NaN</td>\n    </tr>\n    <tr>\n      <th>4</th>\n      <td>4</td>\n      <td>Crunch</td>\n      <td>The crunch is a popular core exercise targetin...</td>\n      <td>Strength</td>\n      <td>Abdominals</td>\n      <td>Bands</td>\n      <td>Intermediate</td>\n      <td>NaN</td>\n      <td>NaN</td>\n    </tr>\n    <tr>\n      <th>...</th>\n      <td>...</td>\n      <td>...</td>\n      <td>...</td>\n      <td>...</td>\n      <td>...</td>\n      <td>...</td>\n      <td>...</td>\n      <td>...</td>\n      <td>...</td>\n    </tr>\n    <tr>\n      <th>2913</th>\n      <td>2913</td>\n      <td>EZ-bar skullcrusher-</td>\n      <td>The EZ-bar skullcrusher is a popular exercise ...</td>\n      <td>Strength</td>\n      <td>Triceps</td>\n      <td>E-Z Curl Bar</td>\n      <td>Intermediate</td>\n      <td>8.1</td>\n      <td>Average</td>\n    </tr>\n    <tr>\n      <th>2914</th>\n      <td>2914</td>\n      <td>Lying Close-Grip Barbell Triceps Press To Chin</td>\n      <td>NaN</td>\n      <td>Strength</td>\n      <td>Triceps</td>\n      <td>E-Z Curl Bar</td>\n      <td>Beginner</td>\n      <td>8.1</td>\n      <td>Average</td>\n    </tr>\n    <tr>\n      <th>2915</th>\n      <td>2915</td>\n      <td>EZ-Bar Skullcrusher - Gethin Variation</td>\n      <td>The EZ-bar skullcrusher is a popular exercise ...</td>\n      <td>Strength</td>\n      <td>Triceps</td>\n      <td>E-Z Curl Bar</td>\n      <td>Intermediate</td>\n      <td>NaN</td>\n      <td>NaN</td>\n    </tr>\n    <tr>\n      <th>2916</th>\n      <td>2916</td>\n      <td>TBS Skullcrusher</td>\n      <td>The EZ-bar skullcrusher is a popular exercise ...</td>\n      <td>Strength</td>\n      <td>Triceps</td>\n      <td>E-Z Curl Bar</td>\n      <td>Intermediate</td>\n      <td>NaN</td>\n      <td>NaN</td>\n    </tr>\n    <tr>\n      <th>2917</th>\n      <td>2917</td>\n      <td>30 Arms EZ-Bar Skullcrusher</td>\n      <td>NaN</td>\n      <td>Strength</td>\n      <td>Triceps</td>\n      <td>E-Z Curl Bar</td>\n      <td>Intermediate</td>\n      <td>NaN</td>\n      <td>NaN</td>\n    </tr>\n  </tbody>\n</table>\n<p>2918 rows × 9 columns</p>\n</div>"
     },
     "execution_count": 50,
     "metadata": {},
     "output_type": "execute_result"
    }
   ],
   "source": [
    "data.rename( columns={'Unnamed: 0':'ID'}, inplace=True )\n",
    "data"
   ],
   "metadata": {
    "collapsed": false,
    "ExecuteTime": {
     "end_time": "2024-05-12T16:43:43.898313Z",
     "start_time": "2024-05-12T16:43:43.885569Z"
    }
   },
   "id": "d207fbef589753ef",
   "execution_count": 50
  },
  {
   "cell_type": "code",
   "outputs": [
    {
     "data": {
      "text/plain": "     ID                         Title  \\\n0   149                   Roc Everest   \n1  1217           Kneeling Jump Squat   \n2    96            Sledgehammer swing   \n3   917  Bench Press With Short Bands   \n4     0        Partner plank band row   \n5   204                Stomach Vacuum   \n6  1159       Forward Drag with Press   \n\n                                                Desc                   Type  \\\n0                                               None                 Cardio   \n1                                               None  Olympic Weightlifting   \n2  The sledgehammer swing is an exercise working ...            Plyometrics   \n3                                               None           Powerlifting   \n4  The partner plank band row is an abdominal exe...               Strength   \n5                                               None             Stretching   \n6                                               None              Strongman   \n\n     BodyPart  Equipment         Level  Rating RatingDesc  \n0  Abdominals      Other  Intermediate     NaN       None  \n1      Glutes    Barbell      Beginner     7.6    Average  \n2  Abdominals      Other  Intermediate     8.6    Average  \n3       Chest      Bands      Beginner     0.0       None  \n4  Abdominals      Bands  Intermediate     0.0       None  \n5  Abdominals  Body Only      Beginner     8.5    Average  \n6       Chest      Other      Beginner     6.0    Average  ",
      "text/html": "<div>\n<style scoped>\n    .dataframe tbody tr th:only-of-type {\n        vertical-align: middle;\n    }\n\n    .dataframe tbody tr th {\n        vertical-align: top;\n    }\n\n    .dataframe thead th {\n        text-align: right;\n    }\n</style>\n<table border=\"1\" class=\"dataframe\">\n  <thead>\n    <tr style=\"text-align: right;\">\n      <th></th>\n      <th>ID</th>\n      <th>Title</th>\n      <th>Desc</th>\n      <th>Type</th>\n      <th>BodyPart</th>\n      <th>Equipment</th>\n      <th>Level</th>\n      <th>Rating</th>\n      <th>RatingDesc</th>\n    </tr>\n  </thead>\n  <tbody>\n    <tr>\n      <th>0</th>\n      <td>149</td>\n      <td>Roc Everest</td>\n      <td>None</td>\n      <td>Cardio</td>\n      <td>Abdominals</td>\n      <td>Other</td>\n      <td>Intermediate</td>\n      <td>NaN</td>\n      <td>None</td>\n    </tr>\n    <tr>\n      <th>1</th>\n      <td>1217</td>\n      <td>Kneeling Jump Squat</td>\n      <td>None</td>\n      <td>Olympic Weightlifting</td>\n      <td>Glutes</td>\n      <td>Barbell</td>\n      <td>Beginner</td>\n      <td>7.6</td>\n      <td>Average</td>\n    </tr>\n    <tr>\n      <th>2</th>\n      <td>96</td>\n      <td>Sledgehammer swing</td>\n      <td>The sledgehammer swing is an exercise working ...</td>\n      <td>Plyometrics</td>\n      <td>Abdominals</td>\n      <td>Other</td>\n      <td>Intermediate</td>\n      <td>8.6</td>\n      <td>Average</td>\n    </tr>\n    <tr>\n      <th>3</th>\n      <td>917</td>\n      <td>Bench Press With Short Bands</td>\n      <td>None</td>\n      <td>Powerlifting</td>\n      <td>Chest</td>\n      <td>Bands</td>\n      <td>Beginner</td>\n      <td>0.0</td>\n      <td>None</td>\n    </tr>\n    <tr>\n      <th>4</th>\n      <td>0</td>\n      <td>Partner plank band row</td>\n      <td>The partner plank band row is an abdominal exe...</td>\n      <td>Strength</td>\n      <td>Abdominals</td>\n      <td>Bands</td>\n      <td>Intermediate</td>\n      <td>0.0</td>\n      <td>None</td>\n    </tr>\n    <tr>\n      <th>5</th>\n      <td>204</td>\n      <td>Stomach Vacuum</td>\n      <td>None</td>\n      <td>Stretching</td>\n      <td>Abdominals</td>\n      <td>Body Only</td>\n      <td>Beginner</td>\n      <td>8.5</td>\n      <td>Average</td>\n    </tr>\n    <tr>\n      <th>6</th>\n      <td>1159</td>\n      <td>Forward Drag with Press</td>\n      <td>None</td>\n      <td>Strongman</td>\n      <td>Chest</td>\n      <td>Other</td>\n      <td>Beginner</td>\n      <td>6.0</td>\n      <td>Average</td>\n    </tr>\n  </tbody>\n</table>\n</div>"
     },
     "execution_count": 51,
     "metadata": {},
     "output_type": "execute_result"
    }
   ],
   "source": [
    "sqldf(\"SELECT * FROM data GROUP BY Type\", globals())"
   ],
   "metadata": {
    "collapsed": false,
    "ExecuteTime": {
     "end_time": "2024-05-12T16:43:43.937279Z",
     "start_time": "2024-05-12T16:43:43.899421Z"
    }
   },
   "id": "3cee5d4406698625",
   "execution_count": 51
  },
  {
   "cell_type": "code",
   "outputs": [
    {
     "data": {
      "text/plain": "        ID                                           Title  \\\n0        0                          Partner plank band row   \n1        1                    Banded crunch isometric hold   \n2        2                           FYR Banded Plank Jack   \n3        3                                   Banded crunch   \n4        4                                          Crunch   \n...    ...                                             ...   \n2913  2913                            EZ-bar skullcrusher-   \n2914  2914  Lying Close-Grip Barbell Triceps Press To Chin   \n2915  2915          EZ-Bar Skullcrusher - Gethin Variation   \n2916  2916                                TBS Skullcrusher   \n2917  2917                     30 Arms EZ-Bar Skullcrusher   \n\n                                                   Desc      Type    BodyPart  \\\n0     The partner plank band row is an abdominal exe...  Strength  Abdominals   \n1     The banded crunch isometric hold is an exercis...  Strength  Abdominals   \n2     The banded plank jack is a variation on the pl...  Strength  Abdominals   \n3     The banded crunch is an exercise targeting the...  Strength  Abdominals   \n4     The crunch is a popular core exercise targetin...  Strength  Abdominals   \n...                                                 ...       ...         ...   \n2913  The EZ-bar skullcrusher is a popular exercise ...  Strength     Triceps   \n2914                                                NaN  Strength     Triceps   \n2915  The EZ-bar skullcrusher is a popular exercise ...  Strength     Triceps   \n2916  The EZ-bar skullcrusher is a popular exercise ...  Strength     Triceps   \n2917                                                NaN  Strength     Triceps   \n\n         Equipment         Level  Rating RatingDesc  Type_encoded  \\\n0            Bands  Intermediate     0.0        NaN             4   \n1            Bands  Intermediate     NaN        NaN             4   \n2            Bands  Intermediate     NaN        NaN             4   \n3            Bands  Intermediate     NaN        NaN             4   \n4            Bands  Intermediate     NaN        NaN             4   \n...            ...           ...     ...        ...           ...   \n2913  E-Z Curl Bar  Intermediate     8.1    Average             4   \n2914  E-Z Curl Bar      Beginner     8.1    Average             4   \n2915  E-Z Curl Bar  Intermediate     NaN        NaN             4   \n2916  E-Z Curl Bar  Intermediate     NaN        NaN             4   \n2917  E-Z Curl Bar  Intermediate     NaN        NaN             4   \n\n      Equipment_encoded  BodyPart_encoded  Level_Beginner  Level_Expert  \\\n0                     0                 0           False         False   \n1                     0                 0           False         False   \n2                     0                 0           False         False   \n3                     0                 0           False         False   \n4                     0                 0           False         False   \n...                 ...               ...             ...           ...   \n2913                  5                16           False         False   \n2914                  5                16            True         False   \n2915                  5                16           False         False   \n2916                  5                16           False         False   \n2917                  5                16           False         False   \n\n      Level_Intermediate  \n0                   True  \n1                   True  \n2                   True  \n3                   True  \n4                   True  \n...                  ...  \n2913                True  \n2914               False  \n2915                True  \n2916                True  \n2917                True  \n\n[2918 rows x 15 columns]",
      "text/html": "<div>\n<style scoped>\n    .dataframe tbody tr th:only-of-type {\n        vertical-align: middle;\n    }\n\n    .dataframe tbody tr th {\n        vertical-align: top;\n    }\n\n    .dataframe thead th {\n        text-align: right;\n    }\n</style>\n<table border=\"1\" class=\"dataframe\">\n  <thead>\n    <tr style=\"text-align: right;\">\n      <th></th>\n      <th>ID</th>\n      <th>Title</th>\n      <th>Desc</th>\n      <th>Type</th>\n      <th>BodyPart</th>\n      <th>Equipment</th>\n      <th>Level</th>\n      <th>Rating</th>\n      <th>RatingDesc</th>\n      <th>Type_encoded</th>\n      <th>Equipment_encoded</th>\n      <th>BodyPart_encoded</th>\n      <th>Level_Beginner</th>\n      <th>Level_Expert</th>\n      <th>Level_Intermediate</th>\n    </tr>\n  </thead>\n  <tbody>\n    <tr>\n      <th>0</th>\n      <td>0</td>\n      <td>Partner plank band row</td>\n      <td>The partner plank band row is an abdominal exe...</td>\n      <td>Strength</td>\n      <td>Abdominals</td>\n      <td>Bands</td>\n      <td>Intermediate</td>\n      <td>0.0</td>\n      <td>NaN</td>\n      <td>4</td>\n      <td>0</td>\n      <td>0</td>\n      <td>False</td>\n      <td>False</td>\n      <td>True</td>\n    </tr>\n    <tr>\n      <th>1</th>\n      <td>1</td>\n      <td>Banded crunch isometric hold</td>\n      <td>The banded crunch isometric hold is an exercis...</td>\n      <td>Strength</td>\n      <td>Abdominals</td>\n      <td>Bands</td>\n      <td>Intermediate</td>\n      <td>NaN</td>\n      <td>NaN</td>\n      <td>4</td>\n      <td>0</td>\n      <td>0</td>\n      <td>False</td>\n      <td>False</td>\n      <td>True</td>\n    </tr>\n    <tr>\n      <th>2</th>\n      <td>2</td>\n      <td>FYR Banded Plank Jack</td>\n      <td>The banded plank jack is a variation on the pl...</td>\n      <td>Strength</td>\n      <td>Abdominals</td>\n      <td>Bands</td>\n      <td>Intermediate</td>\n      <td>NaN</td>\n      <td>NaN</td>\n      <td>4</td>\n      <td>0</td>\n      <td>0</td>\n      <td>False</td>\n      <td>False</td>\n      <td>True</td>\n    </tr>\n    <tr>\n      <th>3</th>\n      <td>3</td>\n      <td>Banded crunch</td>\n      <td>The banded crunch is an exercise targeting the...</td>\n      <td>Strength</td>\n      <td>Abdominals</td>\n      <td>Bands</td>\n      <td>Intermediate</td>\n      <td>NaN</td>\n      <td>NaN</td>\n      <td>4</td>\n      <td>0</td>\n      <td>0</td>\n      <td>False</td>\n      <td>False</td>\n      <td>True</td>\n    </tr>\n    <tr>\n      <th>4</th>\n      <td>4</td>\n      <td>Crunch</td>\n      <td>The crunch is a popular core exercise targetin...</td>\n      <td>Strength</td>\n      <td>Abdominals</td>\n      <td>Bands</td>\n      <td>Intermediate</td>\n      <td>NaN</td>\n      <td>NaN</td>\n      <td>4</td>\n      <td>0</td>\n      <td>0</td>\n      <td>False</td>\n      <td>False</td>\n      <td>True</td>\n    </tr>\n    <tr>\n      <th>...</th>\n      <td>...</td>\n      <td>...</td>\n      <td>...</td>\n      <td>...</td>\n      <td>...</td>\n      <td>...</td>\n      <td>...</td>\n      <td>...</td>\n      <td>...</td>\n      <td>...</td>\n      <td>...</td>\n      <td>...</td>\n      <td>...</td>\n      <td>...</td>\n      <td>...</td>\n    </tr>\n    <tr>\n      <th>2913</th>\n      <td>2913</td>\n      <td>EZ-bar skullcrusher-</td>\n      <td>The EZ-bar skullcrusher is a popular exercise ...</td>\n      <td>Strength</td>\n      <td>Triceps</td>\n      <td>E-Z Curl Bar</td>\n      <td>Intermediate</td>\n      <td>8.1</td>\n      <td>Average</td>\n      <td>4</td>\n      <td>5</td>\n      <td>16</td>\n      <td>False</td>\n      <td>False</td>\n      <td>True</td>\n    </tr>\n    <tr>\n      <th>2914</th>\n      <td>2914</td>\n      <td>Lying Close-Grip Barbell Triceps Press To Chin</td>\n      <td>NaN</td>\n      <td>Strength</td>\n      <td>Triceps</td>\n      <td>E-Z Curl Bar</td>\n      <td>Beginner</td>\n      <td>8.1</td>\n      <td>Average</td>\n      <td>4</td>\n      <td>5</td>\n      <td>16</td>\n      <td>True</td>\n      <td>False</td>\n      <td>False</td>\n    </tr>\n    <tr>\n      <th>2915</th>\n      <td>2915</td>\n      <td>EZ-Bar Skullcrusher - Gethin Variation</td>\n      <td>The EZ-bar skullcrusher is a popular exercise ...</td>\n      <td>Strength</td>\n      <td>Triceps</td>\n      <td>E-Z Curl Bar</td>\n      <td>Intermediate</td>\n      <td>NaN</td>\n      <td>NaN</td>\n      <td>4</td>\n      <td>5</td>\n      <td>16</td>\n      <td>False</td>\n      <td>False</td>\n      <td>True</td>\n    </tr>\n    <tr>\n      <th>2916</th>\n      <td>2916</td>\n      <td>TBS Skullcrusher</td>\n      <td>The EZ-bar skullcrusher is a popular exercise ...</td>\n      <td>Strength</td>\n      <td>Triceps</td>\n      <td>E-Z Curl Bar</td>\n      <td>Intermediate</td>\n      <td>NaN</td>\n      <td>NaN</td>\n      <td>4</td>\n      <td>5</td>\n      <td>16</td>\n      <td>False</td>\n      <td>False</td>\n      <td>True</td>\n    </tr>\n    <tr>\n      <th>2917</th>\n      <td>2917</td>\n      <td>30 Arms EZ-Bar Skullcrusher</td>\n      <td>NaN</td>\n      <td>Strength</td>\n      <td>Triceps</td>\n      <td>E-Z Curl Bar</td>\n      <td>Intermediate</td>\n      <td>NaN</td>\n      <td>NaN</td>\n      <td>4</td>\n      <td>5</td>\n      <td>16</td>\n      <td>False</td>\n      <td>False</td>\n      <td>True</td>\n    </tr>\n  </tbody>\n</table>\n<p>2918 rows × 15 columns</p>\n</div>"
     },
     "execution_count": 52,
     "metadata": {},
     "output_type": "execute_result"
    }
   ],
   "source": [
    "le = LabelEncoder() # Create a LabelEncoder object\n",
    "\n",
    "# Fit the LabelEncoder to the data and transform it\n",
    "data['Type_encoded'] = le.fit_transform(data['Type'])\n",
    "data['Equipment_encoded'] = le.fit_transform(data['Equipment'])\n",
    "data['BodyPart_encoded'] = le.fit_transform(data['BodyPart'])\n",
    "\n",
    "# One-hot encode the 'Level' column\n",
    "data = pd.concat([data, pd.get_dummies(data['Level'], prefix='Level')], axis=1)\n",
    "\n",
    "data"
   ],
   "metadata": {
    "collapsed": false,
    "ExecuteTime": {
     "end_time": "2024-05-12T16:43:46.132041Z",
     "start_time": "2024-05-12T16:43:46.099717Z"
    }
   },
   "id": "c8794cd4d44cb957",
   "execution_count": 52
  },
  {
   "cell_type": "code",
   "outputs": [],
   "source": [
    "heatmap_columns = ['Type_encoded', 'Equipment_encoded', 'BodyPart_encoded', 'Level_Beginner', 'Level_Intermediate', 'Level_Expert']\n",
    "sns.heatmap(data[heatmap_columns].corr(), annot=True, cmap='coolwarm')\n"
   ],
   "metadata": {
    "collapsed": false
   },
   "id": "325ced627f18d8c",
   "execution_count": null
  },
  {
   "cell_type": "code",
   "outputs": [],
   "source": [
    "# Compute Pearson correlation coefficient and p-value\n",
    "columns_for_corr = ['Type_encoded', 'Equipment_encoded', 'BodyPart_encoded', 'Level_Beginner', 'Level_Intermediate', 'Level_Expert']\n",
    "def calc_correlation():\n",
    "    for i in range(len(columns_for_corr)):\n",
    "        for j in range(i + 1, len(columns_for_corr)):\n",
    "            correlation_coefficient, p_value = pearsonr(data[columns_for_corr[i]], data[columns_for_corr[j]])\n",
    "            print(f\"Pearson correlation coefficient for '{columns_for_corr[i]}' and '{columns_for_corr[j]}':\", correlation_coefficient)\n",
    "            print(\"P-value:\", p_value)\n",
    "calc_correlation()"
   ],
   "metadata": {
    "collapsed": false
   },
   "id": "f575beb965164466",
   "execution_count": null
  },
  {
   "cell_type": "code",
   "outputs": [],
   "source": [
    "columns = ['Type_encoded', 'Equipment_encoded', 'BodyPart_encoded', 'Level_Beginner', 'Level_Intermediate', 'Level_Expert'] # Create a new DF\n",
    "data1 = data[columns]\n",
    "\n",
    "similarity_matrix = cosine_similarity(data1) # Calculate the Cosine Similarity between each pair of exercises\n",
    "\n",
    "similarity_df = pd.DataFrame(similarity_matrix, index=data1.index, columns=data1.index) # Convert the similarity matrix to a DataFrame for better readability\n",
    "\n",
    "similarity_df.index = data['ID'] # Replace the indices with the exercise titles\n",
    "\n",
    "similarity_df.columns = data['ID'] # Replace the column names with the exercise titles\n",
    "\n",
    "similarity_df"
   ],
   "metadata": {
    "collapsed": false
   },
   "id": "149ca3c530bcbfa0",
   "execution_count": null
  },
  {
   "cell_type": "code",
   "outputs": [],
   "source": [
    "def recommend_exercises(ID, similarity_df, num_recommendations=5):\n",
    "    exercise_similarities = similarity_df[ID]     # Get the column corresponding to the given exercise ID\n",
    "    similar_exercises = exercise_similarities.sort_values(ascending=False)     # Sort the exercises in descending order of similarity\n",
    "    top_exercises = similar_exercises.head(num_recommendations + 1)   # Get the top N exercises\n",
    "    top_exercises = top_exercises.loc[top_exercises.index != ID]    # Remove the given exercise from the recommendations\n",
    "\n",
    "    # Create a DataFrame with the exercise IDs and their corresponding titles\n",
    "    top_exercises_df = pd.DataFrame(top_exercises)\n",
    "    top_exercises_df['Title'] = top_exercises_df.index.map(data.set_index('ID')['Title'])\n",
    "    top_exercises_df.reset_index(inplace=True)\n",
    "    top_exercises_df.columns = ['ID', 'Similarity', 'Title']\n",
    "\n",
    "    return top_exercises_df\n",
    "\n",
    "# Test the function with a valid exercise ID from your DataFrame\n",
    "valid_ID = data['ID'].iloc[0]  # Replace this with a valid ID from your DataFrame\n",
    "recommendations = recommend_exercises(valid_ID, similarity_df)\n",
    "print(recommendations)"
   ],
   "metadata": {
    "collapsed": false
   },
   "id": "18e5ad977de8aa61",
   "execution_count": null
  },
  {
   "cell_type": "markdown",
   "source": [],
   "metadata": {
    "collapsed": false
   },
   "id": "d80940ffaf40dffa"
  },
  {
   "cell_type": "code",
   "outputs": [],
   "source": [
    "sqldf(\"SELECT * FROM data WHERE Type = 'Strength' AND BodyPart = 'Chest' AND Equipment = 'Barbell'\", globals())\n",
    "# sqldf(\"SELECT * FROM data WHERE ID IN ('2', '3', '4', '5', '6')\", globals())"
   ],
   "metadata": {
    "collapsed": false
   },
   "id": "1583738905900710",
   "execution_count": null
  },
  {
   "cell_type": "code",
   "outputs": [],
   "source": [
    "user_inputs = []\n",
    "\n",
    "def get_user_input(prompt):\n",
    "    user_input = input(prompt)\n",
    "    user_inputs.append(user_input)\n",
    "    return user_input\n",
    "\n",
    "def recommend_based_on_user_input(data, similarity_df, num_recommendations=5):\n",
    "    # Ask the user for their preferences\n",
    "    type_preference = get_user_input(\"What type of exercise would you like to do? \")\n",
    "    body_part_preference = get_user_input(\"What body part would you like to train? \")\n",
    "    equipment_preference = get_user_input(\"What equipment do you have available? \")\n",
    "\n",
    "    # Encode the user's preferences\n",
    "    type_encoded = le.fit_transform([type_preference])\n",
    "    body_part_encoded = le.fit_transform([body_part_preference])\n",
    "\n",
    "    # Create a DataFrame that contains the user's preferences\n",
    "    user_preferences = pd.DataFrame({\n",
    "        'Type_encoded': type_encoded,\n",
    "        'BodyPart_encoded': body_part_encoded,\n",
    "    }, index=[0])\n",
    "\n",
    "    # If the user inputs 'any' for the equipment, skip the equipment preference\n",
    "    if equipment_preference.lower() != 'any':\n",
    "        equipment_encoded = le.fit_transform([equipment_preference])\n",
    "        user_preferences['Equipment_encoded'] = equipment_encoded\n",
    "        data = data[data['Equipment_encoded'] == equipment_encoded[0]]\n",
    "\n",
    "    # Filter the data to only include exercises that match the user's body part preference\n",
    "    data_filtered = data[data['BodyPart_encoded'] == body_part_encoded[0]].copy()\n",
    "\n",
    "    # Compute the cosine similarity between the user's preferences and the filtered data\n",
    "    similarity_scores = cosine_similarity(data_filtered[user_preferences.columns], user_preferences)\n",
    "\n",
    "    # Sort the exercises by their similarity to the user's preferences\n",
    "    data_filtered['Similarity'] = similarity_scores\n",
    "    recommendations = data_filtered.sort_values(by='Similarity', ascending=False).head(num_recommendations)\n",
    "\n",
    "    # Return the recommended exercises\n",
    "    return recommendations[['ID', 'Title', 'Similarity']]\n",
    "\n",
    "recommendations = recommend_based_on_user_input(data, similarity_df)\n",
    "print(f\"User inputs were: {user_inputs}.\")\n",
    "print(f\"The recommended exercises are the following: {recommendations}.\")"
   ],
   "metadata": {
    "collapsed": false
   },
   "id": "eccfea43070fa436",
   "execution_count": null
  },
  {
   "cell_type": "code",
   "outputs": [],
   "source": [
    "sqldf(\"SELECT * FROM data WHERE ID IN ('0', '1', '2', '3', '4')\", globals())"
   ],
   "metadata": {
    "collapsed": false
   },
   "id": "c4a64a4b62894f64",
   "execution_count": null
  },
  {
   "cell_type": "markdown",
   "source": [
    "Need to fix the recommendation algorithm. It's not working as expected. \n",
    "The column Level needs to be one-hot encoded instead of being label encoded.\n",
    "It is returning exercises that don't have the equipment the user is giving as an input."
   ],
   "metadata": {
    "collapsed": false
   },
   "id": "88a9120b73a37b39"
  },
  {
   "cell_type": "markdown",
   "source": [
    "## Data visualization"
   ],
   "metadata": {
    "collapsed": false
   },
   "id": "ca797981e9d5697f"
  },
  {
   "cell_type": "code",
   "outputs": [],
   "source": [
    "sqldf(\"SELECT TItle, Type, BodyPart, Equipment FROM data GROUP BY Type, BodyPart, Equipment\", globals())"
   ],
   "metadata": {
    "collapsed": false
   },
   "id": "f2f0294ace9e9410",
   "execution_count": null
  }
 ],
 "metadata": {
  "kernelspec": {
   "display_name": "Python 3",
   "language": "python",
   "name": "python3"
  },
  "language_info": {
   "codemirror_mode": {
    "name": "ipython",
    "version": 2
   },
   "file_extension": ".py",
   "mimetype": "text/x-python",
   "name": "python",
   "nbconvert_exporter": "python",
   "pygments_lexer": "ipython2",
   "version": "2.7.6"
  }
 },
 "nbformat": 4,
 "nbformat_minor": 5
}
