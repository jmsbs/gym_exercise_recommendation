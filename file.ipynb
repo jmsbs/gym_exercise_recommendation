{
 "cells": [
  {
   "cell_type": "markdown",
   "source": [
    "# Gym Exercise Recommendation"
   ],
   "metadata": {
    "collapsed": false
   },
   "id": "c8a321a6d4840929"
  },
  {
   "cell_type": "markdown",
   "source": [
    "The idea of this project is to create a recommendation based algorithm built on top of a gym exercise dataset.\n",
    "The goal for v1 release is to have a model that will recommend exercises based on user level (beginner, intermediate, advanced), type of exercise/training, equipment available and body part.\n",
    "For the v2 release, I'd like to have some user information/profiles in a way that a content-based and collaborative filtering.\n",
    "For the v3 release, I'm aiming to have a frontend webapp/mobile app users can interact with.\n",
    "For the v4 release, the goal is to also include meal planning. Users will be suggested meals based on their weight, age, body-type and gym goal (getting more swollen, losing weight, etc)."
   ],
   "metadata": {
    "collapsed": false
   },
   "id": "a97b71058881f0c3"
  },
  {
   "cell_type": "code",
   "execution_count": 27,
   "id": "initial_id",
   "metadata": {
    "collapsed": true,
    "ExecuteTime": {
     "end_time": "2024-05-01T21:33:05.424528Z",
     "start_time": "2024-05-01T21:33:05.410905Z"
    }
   },
   "outputs": [],
   "source": [
    "import pandas as pd\n",
    "import numpy as np\n",
    "import matplotlib.pyplot as plt\n",
    "import seaborn as sns\n",
    "from pandasql import sqldf\n",
    "from sklearn.compose import ColumnTransformer\n",
    "from sklearn.pipeline import Pipeline\n",
    "from sklearn import preprocessing \n",
    "from sklearn.preprocessing import LabelEncoder\n",
    "from scipy.stats import pearsonr\n",
    "from sklearn.metrics.pairwise import cosine_similarity"
   ]
  },
  {
   "cell_type": "code",
   "outputs": [],
   "source": [
    "data = pd.read_csv(r'/Users/steelo/Library/CloudStorage/OneDrive-Personal/Dev/codeProjects/gym_recommendation/megaGymDataset.csv')"
   ],
   "metadata": {
    "collapsed": false,
    "ExecuteTime": {
     "end_time": "2024-05-01T21:33:05.458969Z",
     "start_time": "2024-05-01T21:33:05.439378Z"
    }
   },
   "id": "ba8d7305e882bf",
   "execution_count": 28
  },
  {
   "cell_type": "code",
   "outputs": [
    {
     "data": {
      "text/plain": "        ID                                           Title  \\\n0        0                          Partner plank band row   \n1        1                    Banded crunch isometric hold   \n2        2                           FYR Banded Plank Jack   \n3        3                                   Banded crunch   \n4        4                                          Crunch   \n...    ...                                             ...   \n2913  2913                            EZ-bar skullcrusher-   \n2914  2914  Lying Close-Grip Barbell Triceps Press To Chin   \n2915  2915          EZ-Bar Skullcrusher - Gethin Variation   \n2916  2916                                TBS Skullcrusher   \n2917  2917                     30 Arms EZ-Bar Skullcrusher   \n\n                                                   Desc      Type    BodyPart  \\\n0     The partner plank band row is an abdominal exe...  Strength  Abdominals   \n1     The banded crunch isometric hold is an exercis...  Strength  Abdominals   \n2     The banded plank jack is a variation on the pl...  Strength  Abdominals   \n3     The banded crunch is an exercise targeting the...  Strength  Abdominals   \n4     The crunch is a popular core exercise targetin...  Strength  Abdominals   \n...                                                 ...       ...         ...   \n2913  The EZ-bar skullcrusher is a popular exercise ...  Strength     Triceps   \n2914                                                NaN  Strength     Triceps   \n2915  The EZ-bar skullcrusher is a popular exercise ...  Strength     Triceps   \n2916  The EZ-bar skullcrusher is a popular exercise ...  Strength     Triceps   \n2917                                                NaN  Strength     Triceps   \n\n         Equipment         Level  Rating RatingDesc  \n0            Bands  Intermediate     0.0        NaN  \n1            Bands  Intermediate     NaN        NaN  \n2            Bands  Intermediate     NaN        NaN  \n3            Bands  Intermediate     NaN        NaN  \n4            Bands  Intermediate     NaN        NaN  \n...            ...           ...     ...        ...  \n2913  E-Z Curl Bar  Intermediate     8.1    Average  \n2914  E-Z Curl Bar      Beginner     8.1    Average  \n2915  E-Z Curl Bar  Intermediate     NaN        NaN  \n2916  E-Z Curl Bar  Intermediate     NaN        NaN  \n2917  E-Z Curl Bar  Intermediate     NaN        NaN  \n\n[2918 rows x 9 columns]",
      "text/html": "<div>\n<style scoped>\n    .dataframe tbody tr th:only-of-type {\n        vertical-align: middle;\n    }\n\n    .dataframe tbody tr th {\n        vertical-align: top;\n    }\n\n    .dataframe thead th {\n        text-align: right;\n    }\n</style>\n<table border=\"1\" class=\"dataframe\">\n  <thead>\n    <tr style=\"text-align: right;\">\n      <th></th>\n      <th>ID</th>\n      <th>Title</th>\n      <th>Desc</th>\n      <th>Type</th>\n      <th>BodyPart</th>\n      <th>Equipment</th>\n      <th>Level</th>\n      <th>Rating</th>\n      <th>RatingDesc</th>\n    </tr>\n  </thead>\n  <tbody>\n    <tr>\n      <th>0</th>\n      <td>0</td>\n      <td>Partner plank band row</td>\n      <td>The partner plank band row is an abdominal exe...</td>\n      <td>Strength</td>\n      <td>Abdominals</td>\n      <td>Bands</td>\n      <td>Intermediate</td>\n      <td>0.0</td>\n      <td>NaN</td>\n    </tr>\n    <tr>\n      <th>1</th>\n      <td>1</td>\n      <td>Banded crunch isometric hold</td>\n      <td>The banded crunch isometric hold is an exercis...</td>\n      <td>Strength</td>\n      <td>Abdominals</td>\n      <td>Bands</td>\n      <td>Intermediate</td>\n      <td>NaN</td>\n      <td>NaN</td>\n    </tr>\n    <tr>\n      <th>2</th>\n      <td>2</td>\n      <td>FYR Banded Plank Jack</td>\n      <td>The banded plank jack is a variation on the pl...</td>\n      <td>Strength</td>\n      <td>Abdominals</td>\n      <td>Bands</td>\n      <td>Intermediate</td>\n      <td>NaN</td>\n      <td>NaN</td>\n    </tr>\n    <tr>\n      <th>3</th>\n      <td>3</td>\n      <td>Banded crunch</td>\n      <td>The banded crunch is an exercise targeting the...</td>\n      <td>Strength</td>\n      <td>Abdominals</td>\n      <td>Bands</td>\n      <td>Intermediate</td>\n      <td>NaN</td>\n      <td>NaN</td>\n    </tr>\n    <tr>\n      <th>4</th>\n      <td>4</td>\n      <td>Crunch</td>\n      <td>The crunch is a popular core exercise targetin...</td>\n      <td>Strength</td>\n      <td>Abdominals</td>\n      <td>Bands</td>\n      <td>Intermediate</td>\n      <td>NaN</td>\n      <td>NaN</td>\n    </tr>\n    <tr>\n      <th>...</th>\n      <td>...</td>\n      <td>...</td>\n      <td>...</td>\n      <td>...</td>\n      <td>...</td>\n      <td>...</td>\n      <td>...</td>\n      <td>...</td>\n      <td>...</td>\n    </tr>\n    <tr>\n      <th>2913</th>\n      <td>2913</td>\n      <td>EZ-bar skullcrusher-</td>\n      <td>The EZ-bar skullcrusher is a popular exercise ...</td>\n      <td>Strength</td>\n      <td>Triceps</td>\n      <td>E-Z Curl Bar</td>\n      <td>Intermediate</td>\n      <td>8.1</td>\n      <td>Average</td>\n    </tr>\n    <tr>\n      <th>2914</th>\n      <td>2914</td>\n      <td>Lying Close-Grip Barbell Triceps Press To Chin</td>\n      <td>NaN</td>\n      <td>Strength</td>\n      <td>Triceps</td>\n      <td>E-Z Curl Bar</td>\n      <td>Beginner</td>\n      <td>8.1</td>\n      <td>Average</td>\n    </tr>\n    <tr>\n      <th>2915</th>\n      <td>2915</td>\n      <td>EZ-Bar Skullcrusher - Gethin Variation</td>\n      <td>The EZ-bar skullcrusher is a popular exercise ...</td>\n      <td>Strength</td>\n      <td>Triceps</td>\n      <td>E-Z Curl Bar</td>\n      <td>Intermediate</td>\n      <td>NaN</td>\n      <td>NaN</td>\n    </tr>\n    <tr>\n      <th>2916</th>\n      <td>2916</td>\n      <td>TBS Skullcrusher</td>\n      <td>The EZ-bar skullcrusher is a popular exercise ...</td>\n      <td>Strength</td>\n      <td>Triceps</td>\n      <td>E-Z Curl Bar</td>\n      <td>Intermediate</td>\n      <td>NaN</td>\n      <td>NaN</td>\n    </tr>\n    <tr>\n      <th>2917</th>\n      <td>2917</td>\n      <td>30 Arms EZ-Bar Skullcrusher</td>\n      <td>NaN</td>\n      <td>Strength</td>\n      <td>Triceps</td>\n      <td>E-Z Curl Bar</td>\n      <td>Intermediate</td>\n      <td>NaN</td>\n      <td>NaN</td>\n    </tr>\n  </tbody>\n</table>\n<p>2918 rows × 9 columns</p>\n</div>"
     },
     "execution_count": 29,
     "metadata": {},
     "output_type": "execute_result"
    }
   ],
   "source": [
    "data.rename( columns={'Unnamed: 0':'ID'}, inplace=True )\n",
    "data"
   ],
   "metadata": {
    "collapsed": false,
    "ExecuteTime": {
     "end_time": "2024-05-01T21:33:05.468751Z",
     "start_time": "2024-05-01T21:33:05.460687Z"
    }
   },
   "id": "d207fbef589753ef",
   "execution_count": 29
  },
  {
   "cell_type": "code",
   "outputs": [
    {
     "data": {
      "text/plain": "     ID                         Title  \\\n0   149                   Roc Everest   \n1  1217           Kneeling Jump Squat   \n2    96            Sledgehammer swing   \n3   917  Bench Press With Short Bands   \n4     0        Partner plank band row   \n5   204                Stomach Vacuum   \n6  1159       Forward Drag with Press   \n\n                                                Desc                   Type  \\\n0                                               None                 Cardio   \n1                                               None  Olympic Weightlifting   \n2  The sledgehammer swing is an exercise working ...            Plyometrics   \n3                                               None           Powerlifting   \n4  The partner plank band row is an abdominal exe...               Strength   \n5                                               None             Stretching   \n6                                               None              Strongman   \n\n     BodyPart  Equipment         Level  Rating RatingDesc  \n0  Abdominals      Other  Intermediate     NaN       None  \n1      Glutes    Barbell      Beginner     7.6    Average  \n2  Abdominals      Other  Intermediate     8.6    Average  \n3       Chest      Bands      Beginner     0.0       None  \n4  Abdominals      Bands  Intermediate     0.0       None  \n5  Abdominals  Body Only      Beginner     8.5    Average  \n6       Chest      Other      Beginner     6.0    Average  ",
      "text/html": "<div>\n<style scoped>\n    .dataframe tbody tr th:only-of-type {\n        vertical-align: middle;\n    }\n\n    .dataframe tbody tr th {\n        vertical-align: top;\n    }\n\n    .dataframe thead th {\n        text-align: right;\n    }\n</style>\n<table border=\"1\" class=\"dataframe\">\n  <thead>\n    <tr style=\"text-align: right;\">\n      <th></th>\n      <th>ID</th>\n      <th>Title</th>\n      <th>Desc</th>\n      <th>Type</th>\n      <th>BodyPart</th>\n      <th>Equipment</th>\n      <th>Level</th>\n      <th>Rating</th>\n      <th>RatingDesc</th>\n    </tr>\n  </thead>\n  <tbody>\n    <tr>\n      <th>0</th>\n      <td>149</td>\n      <td>Roc Everest</td>\n      <td>None</td>\n      <td>Cardio</td>\n      <td>Abdominals</td>\n      <td>Other</td>\n      <td>Intermediate</td>\n      <td>NaN</td>\n      <td>None</td>\n    </tr>\n    <tr>\n      <th>1</th>\n      <td>1217</td>\n      <td>Kneeling Jump Squat</td>\n      <td>None</td>\n      <td>Olympic Weightlifting</td>\n      <td>Glutes</td>\n      <td>Barbell</td>\n      <td>Beginner</td>\n      <td>7.6</td>\n      <td>Average</td>\n    </tr>\n    <tr>\n      <th>2</th>\n      <td>96</td>\n      <td>Sledgehammer swing</td>\n      <td>The sledgehammer swing is an exercise working ...</td>\n      <td>Plyometrics</td>\n      <td>Abdominals</td>\n      <td>Other</td>\n      <td>Intermediate</td>\n      <td>8.6</td>\n      <td>Average</td>\n    </tr>\n    <tr>\n      <th>3</th>\n      <td>917</td>\n      <td>Bench Press With Short Bands</td>\n      <td>None</td>\n      <td>Powerlifting</td>\n      <td>Chest</td>\n      <td>Bands</td>\n      <td>Beginner</td>\n      <td>0.0</td>\n      <td>None</td>\n    </tr>\n    <tr>\n      <th>4</th>\n      <td>0</td>\n      <td>Partner plank band row</td>\n      <td>The partner plank band row is an abdominal exe...</td>\n      <td>Strength</td>\n      <td>Abdominals</td>\n      <td>Bands</td>\n      <td>Intermediate</td>\n      <td>0.0</td>\n      <td>None</td>\n    </tr>\n    <tr>\n      <th>5</th>\n      <td>204</td>\n      <td>Stomach Vacuum</td>\n      <td>None</td>\n      <td>Stretching</td>\n      <td>Abdominals</td>\n      <td>Body Only</td>\n      <td>Beginner</td>\n      <td>8.5</td>\n      <td>Average</td>\n    </tr>\n    <tr>\n      <th>6</th>\n      <td>1159</td>\n      <td>Forward Drag with Press</td>\n      <td>None</td>\n      <td>Strongman</td>\n      <td>Chest</td>\n      <td>Other</td>\n      <td>Beginner</td>\n      <td>6.0</td>\n      <td>Average</td>\n    </tr>\n  </tbody>\n</table>\n</div>"
     },
     "execution_count": 30,
     "metadata": {},
     "output_type": "execute_result"
    }
   ],
   "source": [
    "sqldf(\"SELECT * FROM data GROUP BY Type\", globals())"
   ],
   "metadata": {
    "collapsed": false,
    "ExecuteTime": {
     "end_time": "2024-05-01T21:33:05.501858Z",
     "start_time": "2024-05-01T21:33:05.469308Z"
    }
   },
   "id": "3cee5d4406698625",
   "execution_count": 30
  },
  {
   "cell_type": "code",
   "outputs": [
    {
     "data": {
      "text/plain": "        ID                                           Title  \\\n0        0                          Partner plank band row   \n1        1                    Banded crunch isometric hold   \n2        2                           FYR Banded Plank Jack   \n3        3                                   Banded crunch   \n4        4                                          Crunch   \n...    ...                                             ...   \n2913  2913                            EZ-bar skullcrusher-   \n2914  2914  Lying Close-Grip Barbell Triceps Press To Chin   \n2915  2915          EZ-Bar Skullcrusher - Gethin Variation   \n2916  2916                                TBS Skullcrusher   \n2917  2917                     30 Arms EZ-Bar Skullcrusher   \n\n                                                   Desc      Type    BodyPart  \\\n0     The partner plank band row is an abdominal exe...  Strength  Abdominals   \n1     The banded crunch isometric hold is an exercis...  Strength  Abdominals   \n2     The banded plank jack is a variation on the pl...  Strength  Abdominals   \n3     The banded crunch is an exercise targeting the...  Strength  Abdominals   \n4     The crunch is a popular core exercise targetin...  Strength  Abdominals   \n...                                                 ...       ...         ...   \n2913  The EZ-bar skullcrusher is a popular exercise ...  Strength     Triceps   \n2914                                                NaN  Strength     Triceps   \n2915  The EZ-bar skullcrusher is a popular exercise ...  Strength     Triceps   \n2916  The EZ-bar skullcrusher is a popular exercise ...  Strength     Triceps   \n2917                                                NaN  Strength     Triceps   \n\n         Equipment         Level  Rating RatingDesc  Type_encoded  \\\n0            Bands  Intermediate     0.0        NaN             4   \n1            Bands  Intermediate     NaN        NaN             4   \n2            Bands  Intermediate     NaN        NaN             4   \n3            Bands  Intermediate     NaN        NaN             4   \n4            Bands  Intermediate     NaN        NaN             4   \n...            ...           ...     ...        ...           ...   \n2913  E-Z Curl Bar  Intermediate     8.1    Average             4   \n2914  E-Z Curl Bar      Beginner     8.1    Average             4   \n2915  E-Z Curl Bar  Intermediate     NaN        NaN             4   \n2916  E-Z Curl Bar  Intermediate     NaN        NaN             4   \n2917  E-Z Curl Bar  Intermediate     NaN        NaN             4   \n\n      Equipment_encoded  Level_encoded  BodyPart_encoded  \n0                     0              2                 0  \n1                     0              2                 0  \n2                     0              2                 0  \n3                     0              2                 0  \n4                     0              2                 0  \n...                 ...            ...               ...  \n2913                  5              2                16  \n2914                  5              0                16  \n2915                  5              2                16  \n2916                  5              2                16  \n2917                  5              2                16  \n\n[2918 rows x 13 columns]",
      "text/html": "<div>\n<style scoped>\n    .dataframe tbody tr th:only-of-type {\n        vertical-align: middle;\n    }\n\n    .dataframe tbody tr th {\n        vertical-align: top;\n    }\n\n    .dataframe thead th {\n        text-align: right;\n    }\n</style>\n<table border=\"1\" class=\"dataframe\">\n  <thead>\n    <tr style=\"text-align: right;\">\n      <th></th>\n      <th>ID</th>\n      <th>Title</th>\n      <th>Desc</th>\n      <th>Type</th>\n      <th>BodyPart</th>\n      <th>Equipment</th>\n      <th>Level</th>\n      <th>Rating</th>\n      <th>RatingDesc</th>\n      <th>Type_encoded</th>\n      <th>Equipment_encoded</th>\n      <th>Level_encoded</th>\n      <th>BodyPart_encoded</th>\n    </tr>\n  </thead>\n  <tbody>\n    <tr>\n      <th>0</th>\n      <td>0</td>\n      <td>Partner plank band row</td>\n      <td>The partner plank band row is an abdominal exe...</td>\n      <td>Strength</td>\n      <td>Abdominals</td>\n      <td>Bands</td>\n      <td>Intermediate</td>\n      <td>0.0</td>\n      <td>NaN</td>\n      <td>4</td>\n      <td>0</td>\n      <td>2</td>\n      <td>0</td>\n    </tr>\n    <tr>\n      <th>1</th>\n      <td>1</td>\n      <td>Banded crunch isometric hold</td>\n      <td>The banded crunch isometric hold is an exercis...</td>\n      <td>Strength</td>\n      <td>Abdominals</td>\n      <td>Bands</td>\n      <td>Intermediate</td>\n      <td>NaN</td>\n      <td>NaN</td>\n      <td>4</td>\n      <td>0</td>\n      <td>2</td>\n      <td>0</td>\n    </tr>\n    <tr>\n      <th>2</th>\n      <td>2</td>\n      <td>FYR Banded Plank Jack</td>\n      <td>The banded plank jack is a variation on the pl...</td>\n      <td>Strength</td>\n      <td>Abdominals</td>\n      <td>Bands</td>\n      <td>Intermediate</td>\n      <td>NaN</td>\n      <td>NaN</td>\n      <td>4</td>\n      <td>0</td>\n      <td>2</td>\n      <td>0</td>\n    </tr>\n    <tr>\n      <th>3</th>\n      <td>3</td>\n      <td>Banded crunch</td>\n      <td>The banded crunch is an exercise targeting the...</td>\n      <td>Strength</td>\n      <td>Abdominals</td>\n      <td>Bands</td>\n      <td>Intermediate</td>\n      <td>NaN</td>\n      <td>NaN</td>\n      <td>4</td>\n      <td>0</td>\n      <td>2</td>\n      <td>0</td>\n    </tr>\n    <tr>\n      <th>4</th>\n      <td>4</td>\n      <td>Crunch</td>\n      <td>The crunch is a popular core exercise targetin...</td>\n      <td>Strength</td>\n      <td>Abdominals</td>\n      <td>Bands</td>\n      <td>Intermediate</td>\n      <td>NaN</td>\n      <td>NaN</td>\n      <td>4</td>\n      <td>0</td>\n      <td>2</td>\n      <td>0</td>\n    </tr>\n    <tr>\n      <th>...</th>\n      <td>...</td>\n      <td>...</td>\n      <td>...</td>\n      <td>...</td>\n      <td>...</td>\n      <td>...</td>\n      <td>...</td>\n      <td>...</td>\n      <td>...</td>\n      <td>...</td>\n      <td>...</td>\n      <td>...</td>\n      <td>...</td>\n    </tr>\n    <tr>\n      <th>2913</th>\n      <td>2913</td>\n      <td>EZ-bar skullcrusher-</td>\n      <td>The EZ-bar skullcrusher is a popular exercise ...</td>\n      <td>Strength</td>\n      <td>Triceps</td>\n      <td>E-Z Curl Bar</td>\n      <td>Intermediate</td>\n      <td>8.1</td>\n      <td>Average</td>\n      <td>4</td>\n      <td>5</td>\n      <td>2</td>\n      <td>16</td>\n    </tr>\n    <tr>\n      <th>2914</th>\n      <td>2914</td>\n      <td>Lying Close-Grip Barbell Triceps Press To Chin</td>\n      <td>NaN</td>\n      <td>Strength</td>\n      <td>Triceps</td>\n      <td>E-Z Curl Bar</td>\n      <td>Beginner</td>\n      <td>8.1</td>\n      <td>Average</td>\n      <td>4</td>\n      <td>5</td>\n      <td>0</td>\n      <td>16</td>\n    </tr>\n    <tr>\n      <th>2915</th>\n      <td>2915</td>\n      <td>EZ-Bar Skullcrusher - Gethin Variation</td>\n      <td>The EZ-bar skullcrusher is a popular exercise ...</td>\n      <td>Strength</td>\n      <td>Triceps</td>\n      <td>E-Z Curl Bar</td>\n      <td>Intermediate</td>\n      <td>NaN</td>\n      <td>NaN</td>\n      <td>4</td>\n      <td>5</td>\n      <td>2</td>\n      <td>16</td>\n    </tr>\n    <tr>\n      <th>2916</th>\n      <td>2916</td>\n      <td>TBS Skullcrusher</td>\n      <td>The EZ-bar skullcrusher is a popular exercise ...</td>\n      <td>Strength</td>\n      <td>Triceps</td>\n      <td>E-Z Curl Bar</td>\n      <td>Intermediate</td>\n      <td>NaN</td>\n      <td>NaN</td>\n      <td>4</td>\n      <td>5</td>\n      <td>2</td>\n      <td>16</td>\n    </tr>\n    <tr>\n      <th>2917</th>\n      <td>2917</td>\n      <td>30 Arms EZ-Bar Skullcrusher</td>\n      <td>NaN</td>\n      <td>Strength</td>\n      <td>Triceps</td>\n      <td>E-Z Curl Bar</td>\n      <td>Intermediate</td>\n      <td>NaN</td>\n      <td>NaN</td>\n      <td>4</td>\n      <td>5</td>\n      <td>2</td>\n      <td>16</td>\n    </tr>\n  </tbody>\n</table>\n<p>2918 rows × 13 columns</p>\n</div>"
     },
     "execution_count": 31,
     "metadata": {},
     "output_type": "execute_result"
    }
   ],
   "source": [
    "le = LabelEncoder() # Create a LabelEncoder object\n",
    "\n",
    "# Fit the LabelEncoder to the data and transform it\n",
    "data['Type_encoded'] = le.fit_transform(data['Type'])\n",
    "data['Equipment_encoded'] = le.fit_transform(data['Equipment'])\n",
    "data['Level_encoded'] = le.fit_transform(data['Level'])\n",
    "data['BodyPart_encoded'] = le.fit_transform(data['BodyPart'])\n",
    "# \n",
    "# # Inverse transform the encoded data to get the original text values\n",
    "# data['Type_original'] = le.inverse_transform(data['Type_encoded'])\n",
    "# data['Equipment_original'] = le.inverse_transform(data['Equipment_encoded'])\n",
    "# data['Level_original'] = le.inverse_transform(data['Level_encoded'])\n",
    "# data['BodyPart_original'] = le.inverse_transform(data['BodyPart_encoded'])\n",
    "\n",
    "data"
   ],
   "metadata": {
    "collapsed": false,
    "ExecuteTime": {
     "end_time": "2024-05-01T21:33:05.513232Z",
     "start_time": "2024-05-01T21:33:05.503445Z"
    }
   },
   "id": "c8794cd4d44cb957",
   "execution_count": 31
  },
  {
   "cell_type": "code",
   "outputs": [
    {
     "data": {
      "text/plain": "<Axes: >"
     },
     "execution_count": 32,
     "metadata": {},
     "output_type": "execute_result"
    },
    {
     "data": {
      "text/plain": "<Figure size 640x480 with 2 Axes>",
      "image/png": "[encoded data removed]"
     },
     "metadata": {},
     "output_type": "display_data"
    }
   ],
   "source": [
    "heatmap_columns = ['Type_encoded', 'Equipment_encoded', 'BodyPart_encoded', 'Level_encoded']\n",
    "sns.heatmap(data[heatmap_columns].corr(), annot=True, cmap='coolwarm')\n"
   ],
   "metadata": {
    "collapsed": false,
    "ExecuteTime": {
     "end_time": "2024-05-01T21:33:05.653905Z",
     "start_time": "2024-05-01T21:33:05.514217Z"
    }
   },
   "id": "325ced627f18d8c",
   "execution_count": 32
  },
  {
   "cell_type": "code",
   "outputs": [
    {
     "name": "stdout",
     "output_type": "stream",
     "text": [
      "Pearson correlation coefficient for 'Type_encoded' and 'Level_encoded': 0.1125080108593004\n",
      "P-value: 1.0993840127818986e-09\n",
      "Pearson correlation coefficient for 'Type_encoded' and 'BodyPart_encoded': -0.10376530824440382\n",
      "P-value: 1.9316138077595137e-08\n",
      "Pearson correlation coefficient for 'Level_encoded' and 'BodyPart_encoded': -0.04445567819867902\n",
      "P-value: 0.016324077489777628\n",
      "Pearson correlation coefficient for 'Equipment_encoded' and 'BodyPart_encoded': 0.06489075217355073\n",
      "P-value: 0.00045234309440299396\n",
      "Pearson correlation coefficient for 'Equipment_encoded' and 'Level_encoded': -0.13358682515446813\n",
      "P-value: 4.306369753538245e-13\n",
      "Pearson correlation coefficient for 'Equipment_encoded' and 'Type_encoded': 0.04590014951411112\n",
      "P-value: 0.013149204295332359\n"
     ]
    }
   ],
   "source": [
    "# Compute Pearson correlation coefficient and p-value\n",
    "correlation_coefficient, p_value = pearsonr(data['Type_encoded'], data['Level_encoded'])\n",
    "print(\"Pearson correlation coefficient for 'Type_encoded' and 'Level_encoded':\", correlation_coefficient)\n",
    "print(\"P-value:\", p_value)\n",
    "\n",
    "correlation_coefficient, p_value = pearsonr(data['Type_encoded'], data['BodyPart_encoded'])\n",
    "print(\"Pearson correlation coefficient for 'Type_encoded' and 'BodyPart_encoded':\", correlation_coefficient)\n",
    "print(\"P-value:\", p_value)\n",
    "\n",
    "correlation_coefficient, p_value = pearsonr(data['Level_encoded'], data['BodyPart_encoded'])\n",
    "print(\"Pearson correlation coefficient for 'Level_encoded' and 'BodyPart_encoded':\", correlation_coefficient)\n",
    "print(\"P-value:\", p_value)\n",
    "\n",
    "correlation_coefficient, p_value = pearsonr(data['Equipment_encoded'], data['BodyPart_encoded'])\n",
    "print(\"Pearson correlation coefficient for 'Equipment_encoded' and 'BodyPart_encoded':\", correlation_coefficient)\n",
    "print(\"P-value:\", p_value)\n",
    "\n",
    "correlation_coefficient, p_value = pearsonr(data['Equipment_encoded'], data['Level_encoded'])\n",
    "print(\"Pearson correlation coefficient for 'Equipment_encoded' and 'Level_encoded':\", correlation_coefficient)\n",
    "print(\"P-value:\", p_value)\n",
    "\n",
    "correlation_coefficient, p_value = pearsonr(data['Equipment_encoded'], data['Type_encoded'])\n",
    "print(\"Pearson correlation coefficient for 'Equipment_encoded' and 'Type_encoded':\", correlation_coefficient)\n",
    "print(\"P-value:\", p_value)"
   ],
   "metadata": {
    "collapsed": false,
    "ExecuteTime": {
     "end_time": "2024-05-01T21:33:05.667586Z",
     "start_time": "2024-05-01T21:33:05.655668Z"
    }
   },
   "id": "f575beb965164466",
   "execution_count": 33
  },
  {
   "cell_type": "code",
   "outputs": [
    {
     "data": {
      "text/plain": "ID       0        1        2        3        4        5        6        7     \\\nID                                                                             \n0     1.00000  1.00000  1.00000  1.00000  1.00000  1.00000  1.00000  1.00000   \n1     1.00000  1.00000  1.00000  1.00000  1.00000  1.00000  1.00000  1.00000   \n2     1.00000  1.00000  1.00000  1.00000  1.00000  1.00000  1.00000  1.00000   \n3     1.00000  1.00000  1.00000  1.00000  1.00000  1.00000  1.00000  1.00000   \n4     1.00000  1.00000  1.00000  1.00000  1.00000  1.00000  1.00000  1.00000   \n...       ...      ...      ...      ...      ...      ...      ...      ...   \n2913  0.25777  0.25777  0.25777  0.25777  0.25777  0.25777  0.25777  0.25777   \n2914  0.20760  0.20760  0.20760  0.20760  0.20760  0.20760  0.20760  0.20760   \n2915  0.25777  0.25777  0.25777  0.25777  0.25777  0.25777  0.25777  0.25777   \n2916  0.25777  0.25777  0.25777  0.25777  0.25777  0.25777  0.25777  0.25777   \n2917  0.25777  0.25777  0.25777  0.25777  0.25777  0.25777  0.25777  0.25777   \n\nID        8         9     ...      2908      2909      2910      2911  \\\nID                        ...                                           \n0     0.975900  0.975900  ...  0.267261  0.267261  0.094281  0.257770   \n1     0.975900  0.975900  ...  0.267261  0.267261  0.094281  0.257770   \n2     0.975900  0.975900  ...  0.267261  0.267261  0.094281  0.257770   \n3     0.975900  0.975900  ...  0.267261  0.267261  0.094281  0.257770   \n4     0.975900  0.975900  ...  0.267261  0.267261  0.094281  0.257770   \n...        ...       ...  ...       ...       ...       ...       ...   \n2913  0.314447  0.314447  ...  0.985153  0.985153  0.953883  1.000000   \n2914  0.265908  0.265908  ...  0.977894  0.977894  0.960285  0.993333   \n2915  0.314447  0.314447  ...  0.985153  0.985153  0.953883  1.000000   \n2916  0.314447  0.314447  ...  0.985153  0.985153  0.953883  1.000000   \n2917  0.314447  0.314447  ...  0.985153  0.985153  0.953883  1.000000   \n\nID        2912      2913      2914      2915      2916      2917  \nID                                                                \n0     0.257770  0.257770  0.207600  0.257770  0.257770  0.257770  \n1     0.257770  0.257770  0.207600  0.257770  0.257770  0.257770  \n2     0.257770  0.257770  0.207600  0.257770  0.257770  0.257770  \n3     0.257770  0.257770  0.207600  0.257770  0.257770  0.257770  \n4     0.257770  0.257770  0.207600  0.257770  0.257770  0.257770  \n...        ...       ...       ...       ...       ...       ...  \n2913  1.000000  1.000000  0.993333  1.000000  1.000000  1.000000  \n2914  0.993333  0.993333  1.000000  0.993333  0.993333  0.993333  \n2915  1.000000  1.000000  0.993333  1.000000  1.000000  1.000000  \n2916  1.000000  1.000000  0.993333  1.000000  1.000000  1.000000  \n2917  1.000000  1.000000  0.993333  1.000000  1.000000  1.000000  \n\n[2918 rows x 2918 columns]",
      "text/html": "<div>\n<style scoped>\n    .dataframe tbody tr th:only-of-type {\n        vertical-align: middle;\n    }\n\n    .dataframe tbody tr th {\n        vertical-align: top;\n    }\n\n    .dataframe thead th {\n        text-align: right;\n    }\n</style>\n<table border=\"1\" class=\"dataframe\">\n  <thead>\n    <tr style=\"text-align: right;\">\n      <th>ID</th>\n      <th>0</th>\n      <th>1</th>\n      <th>2</th>\n      <th>3</th>\n      <th>4</th>\n      <th>5</th>\n      <th>6</th>\n      <th>7</th>\n      <th>8</th>\n      <th>9</th>\n      <th>...</th>\n      <th>2908</th>\n      <th>2909</th>\n      <th>2910</th>\n      <th>2911</th>\n      <th>2912</th>\n      <th>2913</th>\n      <th>2914</th>\n      <th>2915</th>\n      <th>2916</th>\n      <th>2917</th>\n    </tr>\n    <tr>\n      <th>ID</th>\n      <th></th>\n      <th></th>\n      <th></th>\n      <th></th>\n      <th></th>\n      <th></th>\n      <th></th>\n      <th></th>\n      <th></th>\n      <th></th>\n      <th></th>\n      <th></th>\n      <th></th>\n      <th></th>\n      <th></th>\n      <th></th>\n      <th></th>\n      <th></th>\n      <th></th>\n      <th></th>\n      <th></th>\n    </tr>\n  </thead>\n  <tbody>\n    <tr>\n      <th>0</th>\n      <td>1.00000</td>\n      <td>1.00000</td>\n      <td>1.00000</td>\n      <td>1.00000</td>\n      <td>1.00000</td>\n      <td>1.00000</td>\n      <td>1.00000</td>\n      <td>1.00000</td>\n      <td>0.975900</td>\n      <td>0.975900</td>\n      <td>...</td>\n      <td>0.267261</td>\n      <td>0.267261</td>\n      <td>0.094281</td>\n      <td>0.257770</td>\n      <td>0.257770</td>\n      <td>0.257770</td>\n      <td>0.207600</td>\n      <td>0.257770</td>\n      <td>0.257770</td>\n      <td>0.257770</td>\n    </tr>\n    <tr>\n      <th>1</th>\n      <td>1.00000</td>\n      <td>1.00000</td>\n      <td>1.00000</td>\n      <td>1.00000</td>\n      <td>1.00000</td>\n      <td>1.00000</td>\n      <td>1.00000</td>\n      <td>1.00000</td>\n      <td>0.975900</td>\n      <td>0.975900</td>\n      <td>...</td>\n      <td>0.267261</td>\n      <td>0.267261</td>\n      <td>0.094281</td>\n      <td>0.257770</td>\n      <td>0.257770</td>\n      <td>0.257770</td>\n      <td>0.207600</td>\n      <td>0.257770</td>\n      <td>0.257770</td>\n      <td>0.257770</td>\n    </tr>\n    <tr>\n      <th>2</th>\n      <td>1.00000</td>\n      <td>1.00000</td>\n      <td>1.00000</td>\n      <td>1.00000</td>\n      <td>1.00000</td>\n      <td>1.00000</td>\n      <td>1.00000</td>\n      <td>1.00000</td>\n      <td>0.975900</td>\n      <td>0.975900</td>\n      <td>...</td>\n      <td>0.267261</td>\n      <td>0.267261</td>\n      <td>0.094281</td>\n      <td>0.257770</td>\n      <td>0.257770</td>\n      <td>0.257770</td>\n      <td>0.207600</td>\n      <td>0.257770</td>\n      <td>0.257770</td>\n      <td>0.257770</td>\n    </tr>\n    <tr>\n      <th>3</th>\n      <td>1.00000</td>\n      <td>1.00000</td>\n      <td>1.00000</td>\n      <td>1.00000</td>\n      <td>1.00000</td>\n      <td>1.00000</td>\n      <td>1.00000</td>\n      <td>1.00000</td>\n      <td>0.975900</td>\n      <td>0.975900</td>\n      <td>...</td>\n      <td>0.267261</td>\n      <td>0.267261</td>\n      <td>0.094281</td>\n      <td>0.257770</td>\n      <td>0.257770</td>\n      <td>0.257770</td>\n      <td>0.207600</td>\n      <td>0.257770</td>\n      <td>0.257770</td>\n      <td>0.257770</td>\n    </tr>\n    <tr>\n      <th>4</th>\n      <td>1.00000</td>\n      <td>1.00000</td>\n      <td>1.00000</td>\n      <td>1.00000</td>\n      <td>1.00000</td>\n      <td>1.00000</td>\n      <td>1.00000</td>\n      <td>1.00000</td>\n      <td>0.975900</td>\n      <td>0.975900</td>\n      <td>...</td>\n      <td>0.267261</td>\n      <td>0.267261</td>\n      <td>0.094281</td>\n      <td>0.257770</td>\n      <td>0.257770</td>\n      <td>0.257770</td>\n      <td>0.207600</td>\n      <td>0.257770</td>\n      <td>0.257770</td>\n      <td>0.257770</td>\n    </tr>\n    <tr>\n      <th>...</th>\n      <td>...</td>\n      <td>...</td>\n      <td>...</td>\n      <td>...</td>\n      <td>...</td>\n      <td>...</td>\n      <td>...</td>\n      <td>...</td>\n      <td>...</td>\n      <td>...</td>\n      <td>...</td>\n      <td>...</td>\n      <td>...</td>\n      <td>...</td>\n      <td>...</td>\n      <td>...</td>\n      <td>...</td>\n      <td>...</td>\n      <td>...</td>\n      <td>...</td>\n      <td>...</td>\n    </tr>\n    <tr>\n      <th>2913</th>\n      <td>0.25777</td>\n      <td>0.25777</td>\n      <td>0.25777</td>\n      <td>0.25777</td>\n      <td>0.25777</td>\n      <td>0.25777</td>\n      <td>0.25777</td>\n      <td>0.25777</td>\n      <td>0.314447</td>\n      <td>0.314447</td>\n      <td>...</td>\n      <td>0.985153</td>\n      <td>0.985153</td>\n      <td>0.953883</td>\n      <td>1.000000</td>\n      <td>1.000000</td>\n      <td>1.000000</td>\n      <td>0.993333</td>\n      <td>1.000000</td>\n      <td>1.000000</td>\n      <td>1.000000</td>\n    </tr>\n    <tr>\n      <th>2914</th>\n      <td>0.20760</td>\n      <td>0.20760</td>\n      <td>0.20760</td>\n      <td>0.20760</td>\n      <td>0.20760</td>\n      <td>0.20760</td>\n      <td>0.20760</td>\n      <td>0.20760</td>\n      <td>0.265908</td>\n      <td>0.265908</td>\n      <td>...</td>\n      <td>0.977894</td>\n      <td>0.977894</td>\n      <td>0.960285</td>\n      <td>0.993333</td>\n      <td>0.993333</td>\n      <td>0.993333</td>\n      <td>1.000000</td>\n      <td>0.993333</td>\n      <td>0.993333</td>\n      <td>0.993333</td>\n    </tr>\n    <tr>\n      <th>2915</th>\n      <td>0.25777</td>\n      <td>0.25777</td>\n      <td>0.25777</td>\n      <td>0.25777</td>\n      <td>0.25777</td>\n      <td>0.25777</td>\n      <td>0.25777</td>\n      <td>0.25777</td>\n      <td>0.314447</td>\n      <td>0.314447</td>\n      <td>...</td>\n      <td>0.985153</td>\n      <td>0.985153</td>\n      <td>0.953883</td>\n      <td>1.000000</td>\n      <td>1.000000</td>\n      <td>1.000000</td>\n      <td>0.993333</td>\n      <td>1.000000</td>\n      <td>1.000000</td>\n      <td>1.000000</td>\n    </tr>\n    <tr>\n      <th>2916</th>\n      <td>0.25777</td>\n      <td>0.25777</td>\n      <td>0.25777</td>\n      <td>0.25777</td>\n      <td>0.25777</td>\n      <td>0.25777</td>\n      <td>0.25777</td>\n      <td>0.25777</td>\n      <td>0.314447</td>\n      <td>0.314447</td>\n      <td>...</td>\n      <td>0.985153</td>\n      <td>0.985153</td>\n      <td>0.953883</td>\n      <td>1.000000</td>\n      <td>1.000000</td>\n      <td>1.000000</td>\n      <td>0.993333</td>\n      <td>1.000000</td>\n      <td>1.000000</td>\n      <td>1.000000</td>\n    </tr>\n    <tr>\n      <th>2917</th>\n      <td>0.25777</td>\n      <td>0.25777</td>\n      <td>0.25777</td>\n      <td>0.25777</td>\n      <td>0.25777</td>\n      <td>0.25777</td>\n      <td>0.25777</td>\n      <td>0.25777</td>\n      <td>0.314447</td>\n      <td>0.314447</td>\n      <td>...</td>\n      <td>0.985153</td>\n      <td>0.985153</td>\n      <td>0.953883</td>\n      <td>1.000000</td>\n      <td>1.000000</td>\n      <td>1.000000</td>\n      <td>0.993333</td>\n      <td>1.000000</td>\n      <td>1.000000</td>\n      <td>1.000000</td>\n    </tr>\n  </tbody>\n</table>\n<p>2918 rows × 2918 columns</p>\n</div>"
     },
     "execution_count": 34,
     "metadata": {},
     "output_type": "execute_result"
    }
   ],
   "source": [
    "columns = ['Type_encoded', 'Equipment_encoded', 'BodyPart_encoded', 'Level_encoded'] # Create a new DF\n",
    "data1 = data[columns]\n",
    "\n",
    "similarity_matrix = cosine_similarity(data1) # Calculate the Cosine Similarity between each pair of exercises\n",
    "\n",
    "similarity_df = pd.DataFrame(similarity_matrix, index=data1.index, columns=data1.index) # Convert the similarity matrix to a DataFrame for better readability\n",
    "\n",
    "similarity_df.index = data['ID'] # Replace the indices with the exercise titles\n",
    "\n",
    "similarity_df.columns = data['ID'] # Replace the column names with the exercise titles\n",
    "\n",
    "similarity_df"
   ],
   "metadata": {
    "collapsed": false,
    "ExecuteTime": {
     "end_time": "2024-05-01T21:33:05.770526Z",
     "start_time": "2024-05-01T21:33:05.668970Z"
    }
   },
   "id": "149ca3c530bcbfa0",
   "execution_count": 34
  },
  {
   "cell_type": "code",
   "outputs": [
    {
     "name": "stdout",
     "output_type": "stream",
     "text": [
      "   ID  Similarity                      Title\n",
      "0   2         1.0      FYR Banded Plank Jack\n",
      "1   3         1.0              Banded crunch\n",
      "2   4         1.0                     Crunch\n",
      "3   5         1.0  Decline band press sit-up\n",
      "4   6         1.0      FYR2 Banded Frog Pump\n"
     ]
    }
   ],
   "source": [
    "def recommend_exercises(ID, similarity_df, num_recommendations=5):\n",
    "    exercise_similarities = similarity_df[ID]     # Get the column corresponding to the given exercise ID\n",
    "    similar_exercises = exercise_similarities.sort_values(ascending=False)     # Sort the exercises in descending order of similarity\n",
    "    top_exercises = similar_exercises.head(num_recommendations + 1)   # Get the top N exercises\n",
    "    top_exercises = top_exercises.loc[top_exercises.index != ID]    # Remove the given exercise from the recommendations\n",
    "\n",
    "    # Create a DataFrame with the exercise IDs and their corresponding titles\n",
    "    top_exercises_df = pd.DataFrame(top_exercises)\n",
    "    top_exercises_df['Title'] = top_exercises_df.index.map(data.set_index('ID')['Title'])\n",
    "    top_exercises_df.reset_index(inplace=True)\n",
    "    top_exercises_df.columns = ['ID', 'Similarity', 'Title']\n",
    "\n",
    "    return top_exercises_df\n",
    "\n",
    "# Test the function with a valid exercise ID from your DataFrame\n",
    "valid_ID = data['ID'].iloc[0]  # Replace this with a valid ID from your DataFrame\n",
    "recommendations = recommend_exercises(valid_ID, similarity_df)\n",
    "print(recommendations)"
   ],
   "metadata": {
    "collapsed": false,
    "ExecuteTime": {
     "end_time": "2024-05-01T21:33:05.782110Z",
     "start_time": "2024-05-01T21:33:05.772258Z"
    }
   },
   "id": "18e5ad977de8aa61",
   "execution_count": 35
  },
  {
   "cell_type": "markdown",
   "source": [],
   "metadata": {
    "collapsed": false
   },
   "id": "d80940ffaf40dffa"
  },
  {
   "cell_type": "code",
   "outputs": [
    {
     "data": {
      "text/plain": "   ID                     Title  \\\n0  13          Seated bar twist   \n1  16    30 Barbell Floor Wiper   \n2  17       30 Barbell Roll-Out   \n3  18      Decline plate sit-up   \n4  19     KV Barbell Hip Thrust   \n5  97  Decline bar press sit-up   \n\n                                                Desc      Type    BodyPart  \\\n0  The seated bar twist is a core exercise meant ...  Strength  Abdominals   \n1  The barbell floor wiper is a core exercise in ...  Strength  Abdominals   \n2  The barbell roll-out is an abdominal exercise ...  Strength  Abdominals   \n3  The decline plate sit-up is a weighted core ex...  Strength  Abdominals   \n4                                               None  Strength  Abdominals   \n5  The decline bar press sit-up is a weighted cor...  Strength  Abdominals   \n\n  Equipment         Level  Rating RatingDesc  Type_encoded  Equipment_encoded  \\\n0   Barbell  Intermediate     4.7    Average             4                  1   \n1   Barbell  Intermediate     NaN       None             4                  1   \n2   Barbell  Intermediate     NaN       None             4                  1   \n3   Barbell  Intermediate     NaN       None             4                  1   \n4   Barbell  Intermediate     NaN       None             4                  1   \n5   Barbell  Intermediate     8.5    Average             4                  1   \n\n   Level_encoded  BodyPart_encoded  \n0              2                 0  \n1              2                 0  \n2              2                 0  \n3              2                 0  \n4              2                 0  \n5              2                 0  ",
      "text/html": "<div>\n<style scoped>\n    .dataframe tbody tr th:only-of-type {\n        vertical-align: middle;\n    }\n\n    .dataframe tbody tr th {\n        vertical-align: top;\n    }\n\n    .dataframe thead th {\n        text-align: right;\n    }\n</style>\n<table border=\"1\" class=\"dataframe\">\n  <thead>\n    <tr style=\"text-align: right;\">\n      <th></th>\n      <th>ID</th>\n      <th>Title</th>\n      <th>Desc</th>\n      <th>Type</th>\n      <th>BodyPart</th>\n      <th>Equipment</th>\n      <th>Level</th>\n      <th>Rating</th>\n      <th>RatingDesc</th>\n      <th>Type_encoded</th>\n      <th>Equipment_encoded</th>\n      <th>Level_encoded</th>\n      <th>BodyPart_encoded</th>\n    </tr>\n  </thead>\n  <tbody>\n    <tr>\n      <th>0</th>\n      <td>13</td>\n      <td>Seated bar twist</td>\n      <td>The seated bar twist is a core exercise meant ...</td>\n      <td>Strength</td>\n      <td>Abdominals</td>\n      <td>Barbell</td>\n      <td>Intermediate</td>\n      <td>4.7</td>\n      <td>Average</td>\n      <td>4</td>\n      <td>1</td>\n      <td>2</td>\n      <td>0</td>\n    </tr>\n    <tr>\n      <th>1</th>\n      <td>16</td>\n      <td>30 Barbell Floor Wiper</td>\n      <td>The barbell floor wiper is a core exercise in ...</td>\n      <td>Strength</td>\n      <td>Abdominals</td>\n      <td>Barbell</td>\n      <td>Intermediate</td>\n      <td>NaN</td>\n      <td>None</td>\n      <td>4</td>\n      <td>1</td>\n      <td>2</td>\n      <td>0</td>\n    </tr>\n    <tr>\n      <th>2</th>\n      <td>17</td>\n      <td>30 Barbell Roll-Out</td>\n      <td>The barbell roll-out is an abdominal exercise ...</td>\n      <td>Strength</td>\n      <td>Abdominals</td>\n      <td>Barbell</td>\n      <td>Intermediate</td>\n      <td>NaN</td>\n      <td>None</td>\n      <td>4</td>\n      <td>1</td>\n      <td>2</td>\n      <td>0</td>\n    </tr>\n    <tr>\n      <th>3</th>\n      <td>18</td>\n      <td>Decline plate sit-up</td>\n      <td>The decline plate sit-up is a weighted core ex...</td>\n      <td>Strength</td>\n      <td>Abdominals</td>\n      <td>Barbell</td>\n      <td>Intermediate</td>\n      <td>NaN</td>\n      <td>None</td>\n      <td>4</td>\n      <td>1</td>\n      <td>2</td>\n      <td>0</td>\n    </tr>\n    <tr>\n      <th>4</th>\n      <td>19</td>\n      <td>KV Barbell Hip Thrust</td>\n      <td>None</td>\n      <td>Strength</td>\n      <td>Abdominals</td>\n      <td>Barbell</td>\n      <td>Intermediate</td>\n      <td>NaN</td>\n      <td>None</td>\n      <td>4</td>\n      <td>1</td>\n      <td>2</td>\n      <td>0</td>\n    </tr>\n    <tr>\n      <th>5</th>\n      <td>97</td>\n      <td>Decline bar press sit-up</td>\n      <td>The decline bar press sit-up is a weighted cor...</td>\n      <td>Strength</td>\n      <td>Abdominals</td>\n      <td>Barbell</td>\n      <td>Intermediate</td>\n      <td>8.5</td>\n      <td>Average</td>\n      <td>4</td>\n      <td>1</td>\n      <td>2</td>\n      <td>0</td>\n    </tr>\n  </tbody>\n</table>\n</div>"
     },
     "execution_count": 36,
     "metadata": {},
     "output_type": "execute_result"
    }
   ],
   "source": [
    "sqldf(\"SELECT * FROM data WHERE ID IN ('16', '13', '19', '18', '17', '97')\", globals())"
   ],
   "metadata": {
    "collapsed": false,
    "ExecuteTime": {
     "end_time": "2024-05-01T21:33:05.826735Z",
     "start_time": "2024-05-01T21:33:05.783874Z"
    }
   },
   "id": "1583738905900710",
   "execution_count": 36
  },
  {
   "cell_type": "code",
   "outputs": [
    {
     "name": "stdout",
     "output_type": "stream",
     "text": [
      "User inputs were: ['Strength', 'Abdominals', 'Dumbell'].\n",
      "        ID                                            Title  Similarity\n",
      "0        0                           Partner plank band row         0.0\n",
      "1938  1938  Dumbbell Fix Dumbbell Alternating Reverse Lunge         0.0\n",
      "1940  1940                                     Seesaw lunge         0.0\n",
      "1941  1941                         FYR Dumbbell Front Squat         0.0\n",
      "1942  1942                             Dumbbell split squat         0.0\n"
     ]
    }
   ],
   "source": [
    "user_inputs = []\n",
    "\n",
    "def get_user_input(prompt):\n",
    "    user_input = input(prompt)\n",
    "    user_inputs.append(user_input)\n",
    "    return user_input\n",
    "\n",
    "\n",
    "def recommend_based_on_user_input(data, similarity_df, num_recommendations=5):\n",
    "    # Ask the user for their preferences\n",
    "    type_preference = get_user_input(\"What type of exercise would you like to do? \")\n",
    "    body_part_preference = get_user_input(\"What body part would you like to train? \")\n",
    "    equipment_preference = get_user_input(\"What equipment do you have available? \")\n",
    "\n",
    "    # Encode the user's preferences\n",
    "    type_encoded = le.fit_transform([type_preference])\n",
    "    body_part_encoded = le.fit_transform([body_part_preference])\n",
    "    equipment_encoded = le.fit_transform([equipment_preference])\n",
    "\n",
    "    # Create a DataFrame that contains the user's preferences\n",
    "    user_preferences = pd.DataFrame({\n",
    "        'Type_encoded': type_encoded,\n",
    "        'BodyPart_encoded': body_part_encoded,\n",
    "        'Equipment_encoded': equipment_encoded\n",
    "    }, index=[0])\n",
    "\n",
    "    # Compute the cosine similarity between the user's preferences and the original data\n",
    "    similarity_scores = cosine_similarity(data[['Type_encoded', 'BodyPart_encoded', 'Equipment_encoded']], user_preferences)\n",
    "\n",
    "    # Sort the exercises by their similarity to the user's preferences\n",
    "    data['Similarity'] = similarity_scores\n",
    "    recommendations = data.sort_values(by='Similarity', ascending=False).head(num_recommendations)\n",
    "\n",
    "    # Return the recommended exercises\n",
    "    return recommendations[['ID', 'Title', 'Similarity']]\n",
    "\n",
    "recommendations = recommend_based_on_user_input(data, similarity_df)\n",
    "print(f\"User inputs were: {user_inputs}.\")\n",
    "print(recommendations)"
   ],
   "metadata": {
    "collapsed": false,
    "ExecuteTime": {
     "end_time": "2024-05-01T21:33:16.008601Z",
     "start_time": "2024-05-01T21:33:05.836139Z"
    }
   },
   "id": "eccfea43070fa436",
   "execution_count": 37
  },
  {
   "cell_type": "code",
   "outputs": [
    {
     "data": {
      "text/plain": "     ID                                            Title  \\\n0     0                           Partner plank band row   \n1  1938  Dumbbell Fix Dumbbell Alternating Reverse Lunge   \n2  1940                                     Seesaw lunge   \n3  1941                         FYR Dumbbell Front Squat   \n4  1942                             Dumbbell split squat   \n\n                                                Desc      Type    BodyPart  \\\n0  The partner plank band row is an abdominal exe...  Strength  Abdominals   \n1                                               None  Strength  Quadriceps   \n2  The seesaw lunge is a bodyweight exercise that...  Strength  Quadriceps   \n3  The dumbbell front squat targets the quads, gl...  Strength  Quadriceps   \n4  The dumbbell split squat is a popular lower-bo...  Strength  Quadriceps   \n\n  Equipment         Level  Rating RatingDesc  Type_encoded  Equipment_encoded  \\\n0     Bands  Intermediate     0.0       None             4                  0   \n1  Dumbbell  Intermediate     NaN       None             4                  4   \n2  Dumbbell  Intermediate     NaN       None             4                  4   \n3  Dumbbell  Intermediate     NaN       None             4                  4   \n4  Dumbbell  Intermediate     NaN       None             4                  4   \n\n   Level_encoded  BodyPart_encoded  Similarity  \n0              2                 0         0.0  \n1              2                13         0.0  \n2              2                13         0.0  \n3              2                13         0.0  \n4              2                13         0.0  ",
      "text/html": "<div>\n<style scoped>\n    .dataframe tbody tr th:only-of-type {\n        vertical-align: middle;\n    }\n\n    .dataframe tbody tr th {\n        vertical-align: top;\n    }\n\n    .dataframe thead th {\n        text-align: right;\n    }\n</style>\n<table border=\"1\" class=\"dataframe\">\n  <thead>\n    <tr style=\"text-align: right;\">\n      <th></th>\n      <th>ID</th>\n      <th>Title</th>\n      <th>Desc</th>\n      <th>Type</th>\n      <th>BodyPart</th>\n      <th>Equipment</th>\n      <th>Level</th>\n      <th>Rating</th>\n      <th>RatingDesc</th>\n      <th>Type_encoded</th>\n      <th>Equipment_encoded</th>\n      <th>Level_encoded</th>\n      <th>BodyPart_encoded</th>\n      <th>Similarity</th>\n    </tr>\n  </thead>\n  <tbody>\n    <tr>\n      <th>0</th>\n      <td>0</td>\n      <td>Partner plank band row</td>\n      <td>The partner plank band row is an abdominal exe...</td>\n      <td>Strength</td>\n      <td>Abdominals</td>\n      <td>Bands</td>\n      <td>Intermediate</td>\n      <td>0.0</td>\n      <td>None</td>\n      <td>4</td>\n      <td>0</td>\n      <td>2</td>\n      <td>0</td>\n      <td>0.0</td>\n    </tr>\n    <tr>\n      <th>1</th>\n      <td>1938</td>\n      <td>Dumbbell Fix Dumbbell Alternating Reverse Lunge</td>\n      <td>None</td>\n      <td>Strength</td>\n      <td>Quadriceps</td>\n      <td>Dumbbell</td>\n      <td>Intermediate</td>\n      <td>NaN</td>\n      <td>None</td>\n      <td>4</td>\n      <td>4</td>\n      <td>2</td>\n      <td>13</td>\n      <td>0.0</td>\n    </tr>\n    <tr>\n      <th>2</th>\n      <td>1940</td>\n      <td>Seesaw lunge</td>\n      <td>The seesaw lunge is a bodyweight exercise that...</td>\n      <td>Strength</td>\n      <td>Quadriceps</td>\n      <td>Dumbbell</td>\n      <td>Intermediate</td>\n      <td>NaN</td>\n      <td>None</td>\n      <td>4</td>\n      <td>4</td>\n      <td>2</td>\n      <td>13</td>\n      <td>0.0</td>\n    </tr>\n    <tr>\n      <th>3</th>\n      <td>1941</td>\n      <td>FYR Dumbbell Front Squat</td>\n      <td>The dumbbell front squat targets the quads, gl...</td>\n      <td>Strength</td>\n      <td>Quadriceps</td>\n      <td>Dumbbell</td>\n      <td>Intermediate</td>\n      <td>NaN</td>\n      <td>None</td>\n      <td>4</td>\n      <td>4</td>\n      <td>2</td>\n      <td>13</td>\n      <td>0.0</td>\n    </tr>\n    <tr>\n      <th>4</th>\n      <td>1942</td>\n      <td>Dumbbell split squat</td>\n      <td>The dumbbell split squat is a popular lower-bo...</td>\n      <td>Strength</td>\n      <td>Quadriceps</td>\n      <td>Dumbbell</td>\n      <td>Intermediate</td>\n      <td>NaN</td>\n      <td>None</td>\n      <td>4</td>\n      <td>4</td>\n      <td>2</td>\n      <td>13</td>\n      <td>0.0</td>\n    </tr>\n  </tbody>\n</table>\n</div>"
     },
     "execution_count": 38,
     "metadata": {},
     "output_type": "execute_result"
    }
   ],
   "source": [
    "sqldf(\"SELECT * FROM data WHERE ID IN ('0', '1938', '1940','1941','1942')\", globals())"
   ],
   "metadata": {
    "collapsed": false,
    "ExecuteTime": {
     "end_time": "2024-05-01T21:33:16.057817Z",
     "start_time": "2024-05-01T21:33:16.010893Z"
    }
   },
   "id": "c4a64a4b62894f64",
   "execution_count": 38
  },
  {
   "cell_type": "markdown",
   "source": [
    "Need to fix the recommendation algorithm. It's not working as expected. \n",
    "It is returning exercises that don't have the equipment the user is giving as an input."
   ],
   "metadata": {
    "collapsed": false
   },
   "id": "88a9120b73a37b39"
  }
 ],
 "metadata": {
  "kernelspec": {
   "display_name": "Python 3",
   "language": "python",
   "name": "python3"
  },
  "language_info": {
   "codemirror_mode": {
    "name": "ipython",
    "version": 2
   },
   "file_extension": ".py",
   "mimetype": "text/x-python",
   "name": "python",
   "nbconvert_exporter": "python",
   "pygments_lexer": "ipython2",
   "version": "2.7.6"
  }
 },
 "nbformat": 4,
 "nbformat_minor": 5
}
